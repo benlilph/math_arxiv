{
 "cells": [
  {
   "cell_type": "code",
   "execution_count": 54,
   "metadata": {},
   "outputs": [
    {
     "name": "stderr",
     "output_type": "stream",
     "text": [
      "Using TensorFlow backend.\n"
     ]
    }
   ],
   "source": [
    "import harvest_arxiv\n",
    "import pandas as pd\n",
    "import numpy as np\n",
    "import os\n",
    "import re\n",
    "import pandas as pd\n",
    "import numpy as np\n",
    "import matplotlib.pyplot as plt\n",
    "import seaborn as sns\n",
    "import re\n",
    "import nltk.classify.util\n",
    "from nltk.classify import NaiveBayesClassifier\n",
    "from nltk.corpus import movie_reviews\n",
    "from nltk.corpus import stopwords\n",
    "from nltk.tokenize import word_tokenize\n",
    "from nltk.corpus import wordnet\n",
    "from nltk.probability import FreqDist\n",
    "from nltk.tokenize import sent_tokenize\n",
    "from nltk.tokenize import word_tokenize\n",
    "from nltk.probability import FreqDist\n",
    "from nltk.stem import WordNetLemmatizer \n",
    "from nltk.stem import PorterStemmer\n",
    "from sklearn.feature_extraction.text import CountVectorizer\n",
    "from sklearn.feature_extraction.text import TfidfVectorizer\n",
    "from sklearn.linear_model import LogisticRegression \n",
    "from sklearn.naive_bayes import MultinomialNB\n",
    "from sklearn.multiclass import OneVsRestClassifier\n",
    "from nltk.stem import WordNetLemmatizer \n",
    "from nltk.stem import PorterStemmer\n",
    "from matplotlib.ticker import FuncFormatter\n",
    "import matplotlib.pyplot as plt\n",
    "import numpy as np\n",
    "import sklearn\n",
    "import tensorflow as tf\n",
    "from sklearn.feature_extraction.text import CountVectorizer\n",
    "from sklearn.metrics import f1_score\n",
    "from sklearn.metrics import accuracy_score\n",
    "from sklearn import svm\n",
    "from sklearn.naive_bayes import MultinomialNB\n",
    "from sklearn.pipeline import Pipeline\n",
    "from sklearn.model_selection import GridSearchCV\n",
    "from sklearn.metrics import make_scorer\n",
    "from sklearn.model_selection import ParameterGrid\n",
    "from sklearn.model_selection import PredefinedSplit\n",
    "from sklearn.pipeline import FeatureUnion\n",
    "import keras"
   ]
  },
  {
   "cell_type": "code",
   "execution_count": 55,
   "metadata": {},
   "outputs": [
    {
     "name": "stdout",
     "output_type": "stream",
     "text": [
      "sklearn version: 0.20.2\n",
      "nltk version: 3.2.4\n",
      "tensorflow version: 1.12.0\n",
      "keras version: 2.2.4\n"
     ]
    }
   ],
   "source": [
    "print(\"sklearn version:\",sklearn.__version__)\n",
    "print(\"nltk version:\", nltk.__version__)\n",
    "print(\"tensorflow version:\", tf.__version__)\n",
    "print(\"keras version:\", keras.__version__)"
   ]
  },
  {
   "cell_type": "code",
   "execution_count": 2,
   "metadata": {},
   "outputs": [],
   "source": [
    "##to harvest math arxiv data and save the file as a csv file\n",
    "if \"complete_math_arxiv.csv\" not in os.listdir():\n",
    "    df = harvest_arxiv.harvest(arxiv=\"math\", start=\"1989-01-01\", end=\"2018-12-31\")\n",
    "    df.to_csv(\"complete_math_arxiv.csv\",index=False,encoding=\"utf-8\")\n",
    "    del df"
   ]
  },
  {
   "cell_type": "code",
   "execution_count": 3,
   "metadata": {},
   "outputs": [
    {
     "name": "stderr",
     "output_type": "stream",
     "text": [
      "/Users/ben/anaconda3/lib/python3.6/site-packages/IPython/core/interactiveshell.py:2698: DtypeWarning: Columns (4) have mixed types. Specify dtype option on import or set low_memory=False.\n",
      "  interactivity=interactivity, compiler=compiler, result=result)\n"
     ]
    }
   ],
   "source": [
    "##assume we have it \n",
    "df = pd.read_csv(\"complete_math_arxiv.csv\")"
   ]
  },
  {
   "cell_type": "markdown",
   "metadata": {},
   "source": [
    "## let's take a look of the dataframe"
   ]
  },
  {
   "cell_type": "code",
   "execution_count": 5,
   "metadata": {},
   "outputs": [
    {
     "data": {
      "text/html": [
       "<div>\n",
       "<style scoped>\n",
       "    .dataframe tbody tr th:only-of-type {\n",
       "        vertical-align: middle;\n",
       "    }\n",
       "\n",
       "    .dataframe tbody tr th {\n",
       "        vertical-align: top;\n",
       "    }\n",
       "\n",
       "    .dataframe thead th {\n",
       "        text-align: right;\n",
       "    }\n",
       "</style>\n",
       "<table border=\"1\" class=\"dataframe\">\n",
       "  <thead>\n",
       "    <tr style=\"text-align: right;\">\n",
       "      <th></th>\n",
       "      <th>abstract</th>\n",
       "      <th>authors</th>\n",
       "      <th>categories</th>\n",
       "      <th>created</th>\n",
       "      <th>id</th>\n",
       "      <th>title</th>\n",
       "      <th>updated</th>\n",
       "    </tr>\n",
       "  </thead>\n",
       "  <tbody>\n",
       "    <tr>\n",
       "      <th>0</th>\n",
       "      <td>We construct a generic extension in which the ...</td>\n",
       "      <td>['Thomas Jech', 'Saharon Shelah']</td>\n",
       "      <td>['math.LO']</td>\n",
       "      <td>1989-04-14</td>\n",
       "      <td>math/9201239</td>\n",
       "      <td>A note on canonical functions</td>\n",
       "      <td>1989-04-14</td>\n",
       "    </tr>\n",
       "    <tr>\n",
       "      <th>1</th>\n",
       "      <td>It is shown that if $C$ is an $n$-dimensional ...</td>\n",
       "      <td>['Keith Ball']</td>\n",
       "      <td>['math.MG', 'math.FA']</td>\n",
       "      <td>1989-10-26</td>\n",
       "      <td>math/9201205</td>\n",
       "      <td>Volume ratios and a reverse isoperimetric ineq...</td>\n",
       "      <td>1989-10-26</td>\n",
       "    </tr>\n",
       "    <tr>\n",
       "      <th>2</th>\n",
       "      <td>It is proved that if $C$ is a convex body in $...</td>\n",
       "      <td>['Keith Ball']</td>\n",
       "      <td>['math.MG', 'math.FA']</td>\n",
       "      <td>1989-10-26</td>\n",
       "      <td>math/9201204</td>\n",
       "      <td>Shadows of convex bodies</td>\n",
       "      <td>1989-10-26</td>\n",
       "    </tr>\n",
       "    <tr>\n",
       "      <th>3</th>\n",
       "      <td>It is proved that if $u_1,\\ldots, u_n$ are vec...</td>\n",
       "      <td>['Keith Ball', 'Alain Pajor']</td>\n",
       "      <td>['math.MG', 'math.FA']</td>\n",
       "      <td>1989-10-26</td>\n",
       "      <td>math/9201203</td>\n",
       "      <td>Convex bodies with few faces</td>\n",
       "      <td>1989-10-26</td>\n",
       "    </tr>\n",
       "    <tr>\n",
       "      <th>4</th>\n",
       "      <td>This note deals with the following problem, th...</td>\n",
       "      <td>['Gideon Schechtman', 'Joel Zinn']</td>\n",
       "      <td>['math.FA', 'math.MG']</td>\n",
       "      <td>1989-11-09</td>\n",
       "      <td>math/9201206</td>\n",
       "      <td>On the volume of the intersection of two $L_p^...</td>\n",
       "      <td>1989-11-09</td>\n",
       "    </tr>\n",
       "  </tbody>\n",
       "</table>\n",
       "</div>"
      ],
      "text/plain": [
       "                                            abstract  \\\n",
       "0  We construct a generic extension in which the ...   \n",
       "1  It is shown that if $C$ is an $n$-dimensional ...   \n",
       "2  It is proved that if $C$ is a convex body in $...   \n",
       "3  It is proved that if $u_1,\\ldots, u_n$ are vec...   \n",
       "4  This note deals with the following problem, th...   \n",
       "\n",
       "                              authors              categories     created  \\\n",
       "0   ['Thomas Jech', 'Saharon Shelah']             ['math.LO']  1989-04-14   \n",
       "1                      ['Keith Ball']  ['math.MG', 'math.FA']  1989-10-26   \n",
       "2                      ['Keith Ball']  ['math.MG', 'math.FA']  1989-10-26   \n",
       "3       ['Keith Ball', 'Alain Pajor']  ['math.MG', 'math.FA']  1989-10-26   \n",
       "4  ['Gideon Schechtman', 'Joel Zinn']  ['math.FA', 'math.MG']  1989-11-09   \n",
       "\n",
       "             id                                              title     updated  \n",
       "0  math/9201239                      A note on canonical functions  1989-04-14  \n",
       "1  math/9201205  Volume ratios and a reverse isoperimetric ineq...  1989-10-26  \n",
       "2  math/9201204                           Shadows of convex bodies  1989-10-26  \n",
       "3  math/9201203                       Convex bodies with few faces  1989-10-26  \n",
       "4  math/9201206  On the volume of the intersection of two $L_p^...  1989-11-09  "
      ]
     },
     "execution_count": 5,
     "metadata": {},
     "output_type": "execute_result"
    }
   ],
   "source": [
    "df.head()"
   ]
  },
  {
   "cell_type": "markdown",
   "metadata": {},
   "source": [
    "####  the authors and categories are string, we need to reformat them"
   ]
  },
  {
   "cell_type": "code",
   "execution_count": 82,
   "metadata": {},
   "outputs": [],
   "source": [
    "def list_of_authors(text):\n",
    "    names=[]\n",
    "    name_list=text.split(',')\n",
    "    for name in name_list:\n",
    "        name=name.strip()\n",
    "        if name[0]=='[':\n",
    "            name=name[1:]\n",
    "        if name[-1]==']':\n",
    "            name=name[:-1]\n",
    "        name=name[1:-1]\n",
    "        names+=[name]\n",
    "    return names    \n",
    "\n",
    "\n",
    "def list_of_categories(text):\n",
    "    pat=re.compile(r'math.[A-Z][A-Z]')\n",
    "    return pat.findall(text)\n",
    "\n",
    "##now we can make them into a list\n",
    "df['categories']=df['categories'].apply(lambda x: list_of_categories(x))\n",
    "df['authors']=df['authors'].apply(lambda x: list_of_authors(x))"
   ]
  },
  {
   "cell_type": "markdown",
   "metadata": {},
   "source": [
    "### In order to do NLP on the abstract of the math paper, we should also remove all math symbol (i.e. latex) and other symbols"
   ]
  },
  {
   "cell_type": "code",
   "execution_count": 116,
   "metadata": {},
   "outputs": [],
   "source": [
    "def cancelmath_and_quote(test_str):\n",
    "    regex = r\"(\\$+)(?:(?!\\1)[\\s\\S])*\\1\"\n",
    "\n",
    "    subst = \"\"\n",
    "\n",
    "    result = re.sub(regex, subst, test_str, 0, re.MULTILINE)\n",
    "    \n",
    "    regex = r\"(\\[+)(?:(?!\\1)[\\s\\S])*\\1\"\n",
    "    \n",
    "    subst = \"\"\n",
    "\n",
    "    result = re.sub(regex, subst, result, 0, re.MULTILINE)\n",
    "    \n",
    "    ###and remove all symbols\n",
    "    \n",
    "    regex = r'[\\\\\\$\\^\\+\\-\\&\\%\\!\\`\\~]'\n",
    "\n",
    "    subst = \"\"\n",
    "\n",
    "    result = re.sub(regex, subst, result, 0, re.MULTILINE) \n",
    "    \n",
    " \n",
    "\n",
    "    return result\n",
    "\n",
    "df['abstract']=df['abstract'].apply(lambda x : cancelmath_and_quote(x))\n",
    "df['title']=df['title'].apply(lambda x : cancelmath_and_quote(x))"
   ]
  },
  {
   "cell_type": "code",
   "execution_count": 120,
   "metadata": {},
   "outputs": [],
   "source": []
  },
  {
   "cell_type": "markdown",
   "metadata": {},
   "source": [
    "### we have deleted all symbols in title and abstract , now take look of the dataframe again"
   ]
  },
  {
   "cell_type": "code",
   "execution_count": 133,
   "metadata": {},
   "outputs": [
    {
     "data": {
      "text/html": [
       "<div>\n",
       "<style scoped>\n",
       "    .dataframe tbody tr th:only-of-type {\n",
       "        vertical-align: middle;\n",
       "    }\n",
       "\n",
       "    .dataframe tbody tr th {\n",
       "        vertical-align: top;\n",
       "    }\n",
       "\n",
       "    .dataframe thead th {\n",
       "        text-align: right;\n",
       "    }\n",
       "</style>\n",
       "<table border=\"1\" class=\"dataframe\">\n",
       "  <thead>\n",
       "    <tr style=\"text-align: right;\">\n",
       "      <th></th>\n",
       "      <th>abstract</th>\n",
       "      <th>authors</th>\n",
       "      <th>categories</th>\n",
       "      <th>created</th>\n",
       "      <th>id</th>\n",
       "      <th>title</th>\n",
       "      <th>updated</th>\n",
       "    </tr>\n",
       "  </thead>\n",
       "  <tbody>\n",
       "    <tr>\n",
       "      <th>101602</th>\n",
       "      <td>In this paper, we prove the wellposedness for ...</td>\n",
       "      <td>[Zhichun Zhai]</td>\n",
       "      <td>[math.AP]</td>\n",
       "      <td>2009-06-28</td>\n",
       "      <td>0906.5140</td>\n",
       "      <td>Wellposedness for fractional NavierStokes equa...</td>\n",
       "      <td>2009-06-28</td>\n",
       "    </tr>\n",
       "    <tr>\n",
       "      <th>196297</th>\n",
       "      <td>We prove that the subgroup permutability degre...</td>\n",
       "      <td>[Stefanos Aivazidis]</td>\n",
       "      <td>[math.GR]</td>\n",
       "      <td>2013-06-17</td>\n",
       "      <td>1306.4</td>\n",
       "      <td>On the subgroup permutability degree of the si...</td>\n",
       "      <td>2013-08-11</td>\n",
       "    </tr>\n",
       "    <tr>\n",
       "      <th>106315</th>\n",
       "      <td>This paper establishes inner bounds on the sec...</td>\n",
       "      <td>[Yeow-Khiang Chia, Abbas El Gamal]</td>\n",
       "      <td>[math.IT]</td>\n",
       "      <td>2009-10-08</td>\n",
       "      <td>0910.1407</td>\n",
       "      <td>3Receiver Broadcast Channels with Common and C...</td>\n",
       "      <td>2011-06-18</td>\n",
       "    </tr>\n",
       "    <tr>\n",
       "      <th>148918</th>\n",
       "      <td>The notion of IgusaTodorov classes is introduc...</td>\n",
       "      <td>[Jiaqun Wei]</td>\n",
       "      <td>[math.RA, math.KT, math.RT]</td>\n",
       "      <td>2011-09-28</td>\n",
       "      <td>1109.61</td>\n",
       "      <td>Finitistic Dimension Conjecture and Conditions...</td>\n",
       "      <td>2011-09-28</td>\n",
       "    </tr>\n",
       "    <tr>\n",
       "      <th>289268</th>\n",
       "      <td>In this paper a unifying energybased approach ...</td>\n",
       "      <td>[Tjerk Stegink, Claudio De Persis, Arjan van d...</td>\n",
       "      <td>[math.OC]</td>\n",
       "      <td>2016-04-18</td>\n",
       "      <td>1604.05</td>\n",
       "      <td>A unifying energybased approach to stability o...</td>\n",
       "      <td>2016-07-27</td>\n",
       "    </tr>\n",
       "    <tr>\n",
       "      <th>371853</th>\n",
       "      <td>We establish the sharp growth order, up to eps...</td>\n",
       "      <td>[Francesco Di Plinio, Ioannis Parissis]</td>\n",
       "      <td>[math.CA]</td>\n",
       "      <td>2018-07-22</td>\n",
       "      <td>1807.08</td>\n",
       "      <td>Maximal directional operators along algebraic ...</td>\n",
       "      <td>2018-07-22</td>\n",
       "    </tr>\n",
       "    <tr>\n",
       "      <th>203950</th>\n",
       "      <td>In this paper we study the moduli space of 4di...</td>\n",
       "      <td>[Alice Fialowski, Michael Penkava]</td>\n",
       "      <td>[math.RA]</td>\n",
       "      <td>2013-09-24</td>\n",
       "      <td>1309.61</td>\n",
       "      <td>The moduli space of 4dimensional nonnilpotent ...</td>\n",
       "      <td>2013-09-24</td>\n",
       "    </tr>\n",
       "    <tr>\n",
       "      <th>256366</th>\n",
       "      <td>The propagation of waves through microstructur...</td>\n",
       "      <td>[Mehul Makwana, Tryfon Antonakakis, Ben Maling...</td>\n",
       "      <td>[math.MP]</td>\n",
       "      <td>2015-05-12</td>\n",
       "      <td>1505.03</td>\n",
       "      <td>Wave mechanics in media pinned at Bravais latt...</td>\n",
       "      <td>2015-05-12</td>\n",
       "    </tr>\n",
       "    <tr>\n",
       "      <th>163933</th>\n",
       "      <td>We use a theorem of Chow (1949) on linepreserv...</td>\n",
       "      <td>[Sudhir R. Ghorpade, Krishna V. Kaipa]</td>\n",
       "      <td>[math.AG, math.IT]</td>\n",
       "      <td>2012-04-24</td>\n",
       "      <td>1204.55</td>\n",
       "      <td>Automorphism groups of Grassmann codes</td>\n",
       "      <td>2013-05-20</td>\n",
       "    </tr>\n",
       "    <tr>\n",
       "      <th>2623</th>\n",
       "      <td>We consider the (A_n,A_1) Ysystem arising in t...</td>\n",
       "      <td>[Edward Frenkel, Andras Szenes]</td>\n",
       "      <td>[math.AG]</td>\n",
       "      <td>1995-07-02</td>\n",
       "      <td>hep-th/9506215</td>\n",
       "      <td>Thermodynamic Bethe Ansatz and Dilogarithm Ide...</td>\n",
       "      <td>1995-08-20</td>\n",
       "    </tr>\n",
       "  </tbody>\n",
       "</table>\n",
       "</div>"
      ],
      "text/plain": [
       "                                                 abstract  \\\n",
       "101602  In this paper, we prove the wellposedness for ...   \n",
       "196297  We prove that the subgroup permutability degre...   \n",
       "106315  This paper establishes inner bounds on the sec...   \n",
       "148918  The notion of IgusaTodorov classes is introduc...   \n",
       "289268  In this paper a unifying energybased approach ...   \n",
       "371853  We establish the sharp growth order, up to eps...   \n",
       "203950  In this paper we study the moduli space of 4di...   \n",
       "256366  The propagation of waves through microstructur...   \n",
       "163933  We use a theorem of Chow (1949) on linepreserv...   \n",
       "2623    We consider the (A_n,A_1) Ysystem arising in t...   \n",
       "\n",
       "                                                  authors  \\\n",
       "101602                                     [Zhichun Zhai]   \n",
       "196297                               [Stefanos Aivazidis]   \n",
       "106315                 [Yeow-Khiang Chia, Abbas El Gamal]   \n",
       "148918                                       [Jiaqun Wei]   \n",
       "289268  [Tjerk Stegink, Claudio De Persis, Arjan van d...   \n",
       "371853            [Francesco Di Plinio, Ioannis Parissis]   \n",
       "203950                 [Alice Fialowski, Michael Penkava]   \n",
       "256366  [Mehul Makwana, Tryfon Antonakakis, Ben Maling...   \n",
       "163933             [Sudhir R. Ghorpade, Krishna V. Kaipa]   \n",
       "2623                      [Edward Frenkel, Andras Szenes]   \n",
       "\n",
       "                         categories     created              id  \\\n",
       "101602                    [math.AP]  2009-06-28       0906.5140   \n",
       "196297                    [math.GR]  2013-06-17          1306.4   \n",
       "106315                    [math.IT]  2009-10-08       0910.1407   \n",
       "148918  [math.RA, math.KT, math.RT]  2011-09-28         1109.61   \n",
       "289268                    [math.OC]  2016-04-18         1604.05   \n",
       "371853                    [math.CA]  2018-07-22         1807.08   \n",
       "203950                    [math.RA]  2013-09-24         1309.61   \n",
       "256366                    [math.MP]  2015-05-12         1505.03   \n",
       "163933           [math.AG, math.IT]  2012-04-24         1204.55   \n",
       "2623                      [math.AG]  1995-07-02  hep-th/9506215   \n",
       "\n",
       "                                                    title     updated  \n",
       "101602  Wellposedness for fractional NavierStokes equa...  2009-06-28  \n",
       "196297  On the subgroup permutability degree of the si...  2013-08-11  \n",
       "106315  3Receiver Broadcast Channels with Common and C...  2011-06-18  \n",
       "148918  Finitistic Dimension Conjecture and Conditions...  2011-09-28  \n",
       "289268  A unifying energybased approach to stability o...  2016-07-27  \n",
       "371853  Maximal directional operators along algebraic ...  2018-07-22  \n",
       "203950  The moduli space of 4dimensional nonnilpotent ...  2013-09-24  \n",
       "256366  Wave mechanics in media pinned at Bravais latt...  2015-05-12  \n",
       "163933             Automorphism groups of Grassmann codes  2013-05-20  \n",
       "2623    Thermodynamic Bethe Ansatz and Dilogarithm Ide...  1995-08-20  "
      ]
     },
     "execution_count": 133,
     "metadata": {},
     "output_type": "execute_result"
    }
   ],
   "source": [
    "df.sample(10,random_state=0)"
   ]
  },
  {
   "cell_type": "code",
   "execution_count": 135,
   "metadata": {},
   "outputs": [],
   "source": [
    "###Let's drop all papers without math categories\n",
    "df=df[df.categories.apply(lambda x: len(x)>0)]"
   ]
  },
  {
   "cell_type": "markdown",
   "metadata": {},
   "source": [
    "### how many different math categories are there?"
   ]
  },
  {
   "cell_type": "code",
   "execution_count": 136,
   "metadata": {},
   "outputs": [],
   "source": [
    "all_cat={}\n",
    "for i in df.index:\n",
    "    paper_cats=df.loc[i,\"categories\"]\n",
    "    for cat in paper_cats:\n",
    "        if cat in all_cat:\n",
    "            all_cat[cat]+=1\n",
    "        else:\n",
    "            all_cat[cat]=1\n",
    "            \n",
    "list_of_all_cat=sorted(list(all_cat.items()),key=lambda x: x[1], reverse=True)            "
   ]
  },
  {
   "cell_type": "markdown",
   "metadata": {},
   "source": [
    "### Let's create a barplot and see its distribution"
   ]
  },
  {
   "cell_type": "code",
   "execution_count": 161,
   "metadata": {},
   "outputs": [
    {
     "data": {
      "image/png": "[encoded data removed]",
      "text/plain": [
       "<Figure size 2160x1476 with 1 Axes>"
      ]
     },
     "metadata": {},
     "output_type": "display_data"
    }
   ],
   "source": [
    "'''\n",
    "temp_X,temp_y=list(zip(*sorted(F1s,key=lambda x:x[1])))\n",
    "fig, ax = plt.subplots()\n",
    "fig.set_size_inches(40, 10.5)\n",
    "plt.bar(temp_X, temp_y)\n",
    "# plt.figure(figsize=(200,200))\n",
    "#plt.xticks(x, ('Bill', 'Fred', 'Mary', 'Sue'))\n",
    "plt.show()\n",
    "'''\n",
    "\n",
    "X_cat,Y_cat=list(zip(*list_of_all_cat))\n",
    "fig, ax = plt.subplots()\n",
    "fig.set_size_inches(30, 20.5)\n",
    "plt.bar(X_cat, Y_cat)\n",
    "# plt.figure(figsize=(200,200))\n",
    "#plt.xticks(x, ('Bill', 'Fred', 'Mary', 'Sue'))\n",
    "plt.title(\"Distribution of arxiv math paper from 1989 to 2018\")\n",
    "plt.show()"
   ]
  },
  {
   "cell_type": "markdown",
   "metadata": {},
   "source": [
    "### So the winner is math.MP (Mathematical Physics) , 1st runner up is Combinatorics and 2nd runner up is Algebraic geometry. "
   ]
  },
  {
   "cell_type": "code",
   "execution_count": null,
   "metadata": {},
   "outputs": [],
   "source": []
  },
  {
   "cell_type": "code",
   "execution_count": null,
   "metadata": {},
   "outputs": [],
   "source": []
  }
 ],
 "metadata": {
  "kernelspec": {
   "display_name": "Python 3",
   "language": "python",
   "name": "python3"
  },
  "language_info": {
   "codemirror_mode": {
    "name": "ipython",
    "version": 3
   },
   "file_extension": ".py",
   "mimetype": "text/x-python",
   "name": "python",
   "nbconvert_exporter": "python",
   "pygments_lexer": "ipython3",
   "version": "3.6.7"
  }
 },
 "nbformat": 4,
 "nbformat_minor": 2
}
