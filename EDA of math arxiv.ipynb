{
 "cells": [
  {
   "cell_type": "code",
   "execution_count": 54,
   "metadata": {},
   "outputs": [
    {
     "name": "stderr",
     "output_type": "stream",
     "text": [
      "Using TensorFlow backend.\n"
     ]
    }
   ],
   "source": [
    "import harvest_arxiv\n",
    "import pandas as pd\n",
    "import numpy as np\n",
    "import os\n",
    "import re\n",
    "import pandas as pd\n",
    "import numpy as np\n",
    "import matplotlib.pyplot as plt\n",
    "import seaborn as sns\n",
    "import re\n",
    "import nltk.classify.util\n",
    "from nltk.classify import NaiveBayesClassifier\n",
    "from nltk.corpus import movie_reviews\n",
    "from nltk.corpus import stopwords\n",
    "from nltk.tokenize import word_tokenize\n",
    "from nltk.corpus import wordnet\n",
    "from nltk.probability import FreqDist\n",
    "from nltk.tokenize import sent_tokenize\n",
    "from nltk.tokenize import word_tokenize\n",
    "from nltk.probability import FreqDist\n",
    "from nltk.stem import WordNetLemmatizer \n",
    "from nltk.stem import PorterStemmer\n",
    "from sklearn.feature_extraction.text import CountVectorizer\n",
    "from sklearn.feature_extraction.text import TfidfVectorizer\n",
    "from sklearn.linear_model import LogisticRegression \n",
    "from sklearn.naive_bayes import MultinomialNB\n",
    "from sklearn.multiclass import OneVsRestClassifier\n",
    "from nltk.stem import WordNetLemmatizer \n",
    "from nltk.stem import PorterStemmer\n",
    "from matplotlib.ticker import FuncFormatter\n",
    "import matplotlib.pyplot as plt\n",
    "import numpy as np\n",
    "import sklearn\n",
    "import tensorflow as tf\n",
    "from sklearn.feature_extraction.text import CountVectorizer\n",
    "from sklearn.metrics import f1_score\n",
    "from sklearn.metrics import accuracy_score\n",
    "from sklearn import svm\n",
    "from sklearn.naive_bayes import MultinomialNB\n",
    "from sklearn.pipeline import Pipeline\n",
    "from sklearn.model_selection import GridSearchCV\n",
    "from sklearn.metrics import make_scorer\n",
    "from sklearn.model_selection import ParameterGrid\n",
    "from sklearn.model_selection import PredefinedSplit\n",
    "from sklearn.pipeline import FeatureUnion\n",
    "import keras"
   ]
  },
  {
   "cell_type": "code",
   "execution_count": 55,
   "metadata": {},
   "outputs": [
    {
     "name": "stdout",
     "output_type": "stream",
     "text": [
      "sklearn version: 0.20.2\n",
      "nltk version: 3.2.4\n",
      "tensorflow version: 1.12.0\n",
      "keras version: 2.2.4\n"
     ]
    }
   ],
   "source": [
    "print(\"sklearn version:\",sklearn.__version__)\n",
    "print(\"nltk version:\", nltk.__version__)\n",
    "print(\"tensorflow version:\", tf.__version__)\n",
    "print(\"keras version:\", keras.__version__)"
   ]
  },
  {
   "cell_type": "code",
   "execution_count": 2,
   "metadata": {},
   "outputs": [],
   "source": [
    "##to harvest math arxiv data and save the file as a csv file\n",
    "if \"complete_math_arxiv.csv\" not in os.listdir():\n",
    "    df = harvest_arxiv.harvest(arxiv=\"math\", start=\"1989-01-01\", end=\"2018-12-31\")\n",
    "    df.to_csv(\"complete_math_arxiv.csv\",index=False,encoding=\"utf-8\")\n",
    "    del df"
   ]
  },
  {
   "cell_type": "code",
   "execution_count": 3,
   "metadata": {},
   "outputs": [
    {
     "name": "stderr",
     "output_type": "stream",
     "text": [
      "/Users/ben/anaconda3/lib/python3.6/site-packages/IPython/core/interactiveshell.py:2698: DtypeWarning: Columns (4) have mixed types. Specify dtype option on import or set low_memory=False.\n",
      "  interactivity=interactivity, compiler=compiler, result=result)\n"
     ]
    }
   ],
   "source": [
    "##assume we have it \n",
    "df = pd.read_csv(\"complete_math_arxiv.csv\")"
   ]
  },
  {
   "cell_type": "markdown",
   "metadata": {},
   "source": [
    "## let's take a look of the dataframe"
   ]
  },
  {
   "cell_type": "code",
   "execution_count": 5,
   "metadata": {},
   "outputs": [
    {
     "data": {
      "text/html": [
       "<div>\n",
       "<style scoped>\n",
       "    .dataframe tbody tr th:only-of-type {\n",
       "        vertical-align: middle;\n",
       "    }\n",
       "\n",
       "    .dataframe tbody tr th {\n",
       "        vertical-align: top;\n",
       "    }\n",
       "\n",
       "    .dataframe thead th {\n",
       "        text-align: right;\n",
       "    }\n",
       "</style>\n",
       "<table border=\"1\" class=\"dataframe\">\n",
       "  <thead>\n",
       "    <tr style=\"text-align: right;\">\n",
       "      <th></th>\n",
       "      <th>abstract</th>\n",
       "      <th>authors</th>\n",
       "      <th>categories</th>\n",
       "      <th>created</th>\n",
       "      <th>id</th>\n",
       "      <th>title</th>\n",
       "      <th>updated</th>\n",
       "    </tr>\n",
       "  </thead>\n",
       "  <tbody>\n",
       "    <tr>\n",
       "      <th>0</th>\n",
       "      <td>We construct a generic extension in which the ...</td>\n",
       "      <td>['Thomas Jech', 'Saharon Shelah']</td>\n",
       "      <td>['math.LO']</td>\n",
       "      <td>1989-04-14</td>\n",
       "      <td>math/9201239</td>\n",
       "      <td>A note on canonical functions</td>\n",
       "      <td>1989-04-14</td>\n",
       "    </tr>\n",
       "    <tr>\n",
       "      <th>1</th>\n",
       "      <td>It is shown that if $C$ is an $n$-dimensional ...</td>\n",
       "      <td>['Keith Ball']</td>\n",
       "      <td>['math.MG', 'math.FA']</td>\n",
       "      <td>1989-10-26</td>\n",
       "      <td>math/9201205</td>\n",
       "      <td>Volume ratios and a reverse isoperimetric ineq...</td>\n",
       "      <td>1989-10-26</td>\n",
       "    </tr>\n",
       "    <tr>\n",
       "      <th>2</th>\n",
       "      <td>It is proved that if $C$ is a convex body in $...</td>\n",
       "      <td>['Keith Ball']</td>\n",
       "      <td>['math.MG', 'math.FA']</td>\n",
       "      <td>1989-10-26</td>\n",
       "      <td>math/9201204</td>\n",
       "      <td>Shadows of convex bodies</td>\n",
       "      <td>1989-10-26</td>\n",
       "    </tr>\n",
       "    <tr>\n",
       "      <th>3</th>\n",
       "      <td>It is proved that if $u_1,\\ldots, u_n$ are vec...</td>\n",
       "      <td>['Keith Ball', 'Alain Pajor']</td>\n",
       "      <td>['math.MG', 'math.FA']</td>\n",
       "      <td>1989-10-26</td>\n",
       "      <td>math/9201203</td>\n",
       "      <td>Convex bodies with few faces</td>\n",
       "      <td>1989-10-26</td>\n",
       "    </tr>\n",
       "    <tr>\n",
       "      <th>4</th>\n",
       "      <td>This note deals with the following problem, th...</td>\n",
       "      <td>['Gideon Schechtman', 'Joel Zinn']</td>\n",
       "      <td>['math.FA', 'math.MG']</td>\n",
       "      <td>1989-11-09</td>\n",
       "      <td>math/9201206</td>\n",
       "      <td>On the volume of the intersection of two $L_p^...</td>\n",
       "      <td>1989-11-09</td>\n",
       "    </tr>\n",
       "  </tbody>\n",
       "</table>\n",
       "</div>"
      ],
      "text/plain": [
       "                                            abstract  \\\n",
       "0  We construct a generic extension in which the ...   \n",
       "1  It is shown that if $C$ is an $n$-dimensional ...   \n",
       "2  It is proved that if $C$ is a convex body in $...   \n",
       "3  It is proved that if $u_1,\\ldots, u_n$ are vec...   \n",
       "4  This note deals with the following problem, th...   \n",
       "\n",
       "                              authors              categories     created  \\\n",
       "0   ['Thomas Jech', 'Saharon Shelah']             ['math.LO']  1989-04-14   \n",
       "1                      ['Keith Ball']  ['math.MG', 'math.FA']  1989-10-26   \n",
       "2                      ['Keith Ball']  ['math.MG', 'math.FA']  1989-10-26   \n",
       "3       ['Keith Ball', 'Alain Pajor']  ['math.MG', 'math.FA']  1989-10-26   \n",
       "4  ['Gideon Schechtman', 'Joel Zinn']  ['math.FA', 'math.MG']  1989-11-09   \n",
       "\n",
       "             id                                              title     updated  \n",
       "0  math/9201239                      A note on canonical functions  1989-04-14  \n",
       "1  math/9201205  Volume ratios and a reverse isoperimetric ineq...  1989-10-26  \n",
       "2  math/9201204                           Shadows of convex bodies  1989-10-26  \n",
       "3  math/9201203                       Convex bodies with few faces  1989-10-26  \n",
       "4  math/9201206  On the volume of the intersection of two $L_p^...  1989-11-09  "
      ]
     },
     "execution_count": 5,
     "metadata": {},
     "output_type": "execute_result"
    }
   ],
   "source": [
    "df.head()"
   ]
  },
  {
   "cell_type": "markdown",
   "metadata": {},
   "source": [
    "####  the authors and categories are string, we need to reformat them"
   ]
  },
  {
   "cell_type": "code",
   "execution_count": 82,
   "metadata": {},
   "outputs": [],
   "source": [
    "def list_of_authors(text):\n",
    "    names=[]\n",
    "    name_list=text.split(',')\n",
    "    for name in name_list:\n",
    "        name=name.strip()\n",
    "        if name[0]=='[':\n",
    "            name=name[1:]\n",
    "        if name[-1]==']':\n",
    "            name=name[:-1]\n",
    "        name=name[1:-1]\n",
    "        names+=[name]\n",
    "    return names    \n",
    "\n",
    "\n",
    "def list_of_categories(text):\n",
    "    pat=re.compile(r'math.[A-Z][A-Z]')\n",
    "    return pat.findall(text)\n",
    "\n",
    "##now we can make them into a list\n",
    "df['categories']=df['categories'].apply(lambda x: list_of_categories(x))\n",
    "df['authors']=df['authors'].apply(lambda x: list_of_authors(x))"
   ]
  },
  {
   "cell_type": "markdown",
   "metadata": {},
   "source": [
    "### In order to do NLP on the abstract of the math paper, we should also remove all math symbol (i.e. latex) and other symbols"
   ]
  },
  {
   "cell_type": "code",
   "execution_count": 116,
   "metadata": {},
   "outputs": [],
   "source": [
    "def cancelmath_and_quote(test_str):\n",
    "    regex = r\"(\\$+)(?:(?!\\1)[\\s\\S])*\\1\"\n",
    "\n",
    "    subst = \"\"\n",
    "\n",
    "    result = re.sub(regex, subst, test_str, 0, re.MULTILINE)\n",
    "    \n",
    "    regex = r\"(\\[+)(?:(?!\\1)[\\s\\S])*\\1\"\n",
    "    \n",
    "    subst = \"\"\n",
    "\n",
    "    result = re.sub(regex, subst, result, 0, re.MULTILINE)\n",
    "    \n",
    "    ###and remove all symbols\n",
    "    \n",
    "    regex = r'[\\\\\\$\\^\\+\\-\\&\\%\\!\\`\\~]'\n",
    "\n",
    "    subst = \"\"\n",
    "\n",
    "    result = re.sub(regex, subst, result, 0, re.MULTILINE) \n",
    "    \n",
    " \n",
    "\n",
    "    return result\n",
    "\n",
    "df['abstract']=df['abstract'].apply(lambda x : cancelmath_and_quote(x))\n"
   ]
  },
  {
   "cell_type": "code",
   "execution_count": null,
   "metadata": {},
   "outputs": [],
   "source": []
  }
 ],
 "metadata": {
  "kernelspec": {
   "display_name": "Python 3",
   "language": "python",
   "name": "python3"
  },
  "language_info": {
   "codemirror_mode": {
    "name": "ipython",
    "version": 3
   },
   "file_extension": ".py",
   "mimetype": "text/x-python",
   "name": "python",
   "nbconvert_exporter": "python",
   "pygments_lexer": "ipython3",
   "version": "3.6.7"
  }
 },
 "nbformat": 4,
 "nbformat_minor": 2
}
