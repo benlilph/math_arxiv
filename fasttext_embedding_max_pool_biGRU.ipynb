{
 "cells": [
  {
   "cell_type": "code",
   "execution_count": 12,
   "metadata": {},
   "outputs": [
    {
     "name": "stdout",
     "output_type": "stream",
     "text": [
      "sklearn version: 0.20.2\n",
      "keras version: 2.2.4\n",
      "tensorflow version: 1.12.0\n",
      "pandas version: 0.23.4\n",
      "numpy version: 1.15.4\n",
      "python version: 3.6.7 |Anaconda custom (64-bit)| (default, Oct 23 2018, 14:01:38) \n",
      "[GCC 4.2.1 Compatible Clang 4.0.1 (tags/RELEASE_401/final)]\n"
     ]
    }
   ],
   "source": [
    "###now try to use keras to train the model\n",
    "###try deep learning \n",
    "import pandas as pd\n",
    "import numpy as np\n",
    "import matplotlib.pyplot as plt\n",
    "import seaborn as sns\n",
    "import re\n",
    "import random\n",
    "import nltk.classify.util\n",
    "from nltk.classify import NaiveBayesClassifier\n",
    "from nltk.corpus import movie_reviews\n",
    "from nltk.corpus import stopwords\n",
    "from nltk.tokenize import word_tokenize\n",
    "from nltk.corpus import wordnet\n",
    "from nltk.probability import FreqDist\n",
    "from nltk.tokenize import sent_tokenize\n",
    "from nltk.tokenize import word_tokenize\n",
    "from nltk.probability import FreqDist\n",
    "from nltk.stem import WordNetLemmatizer \n",
    "from nltk.stem import PorterStemmer\n",
    "from nltk.stem.snowball import SnowballStemmer\n",
    "from sklearn.feature_extraction.text import CountVectorizer\n",
    "from sklearn.feature_extraction.text import TfidfVectorizer\n",
    "from sklearn.linear_model import LogisticRegression \n",
    "from sklearn.naive_bayes import MultinomialNB\n",
    "from sklearn.multiclass import OneVsRestClassifier\n",
    "from nltk.stem import WordNetLemmatizer \n",
    "from nltk.stem import PorterStemmer\n",
    "from matplotlib.ticker import FuncFormatter\n",
    "import matplotlib.pyplot as plt\n",
    "import numpy as np\n",
    "from sklearn.feature_extraction.text import CountVectorizer\n",
    "from sklearn.metrics import f1_score\n",
    "from sklearn.metrics import accuracy_score\n",
    "from sklearn import svm\n",
    "from sklearn.naive_bayes import MultinomialNB\n",
    "from sklearn.pipeline import Pipeline\n",
    "from sklearn.model_selection import GridSearchCV\n",
    "from sklearn.metrics import make_scorer\n",
    "from sklearn.model_selection import ParameterGrid\n",
    "from sklearn.model_selection import PredefinedSplit\n",
    "from sklearn.pipeline import FeatureUnion\n",
    "from sklearn.linear_model import LogisticRegression\n",
    "from sklearn.metrics import roc_curve, auc\n",
    "from sklearn.svm import SVC\n",
    "import tensorflow as tf\n",
    "import keras\n",
    "import pickle\n",
    "import sklearn\n",
    "import sys\n",
    "import datetime\n",
    "%matplotlib inline\n",
    "from keras.preprocessing.text import Tokenizer\n",
    "from keras.preprocessing.sequence import pad_sequences\n",
    "from keras.layers import Dense, Input, LSTM, Embedding, Dropout, Activation\n",
    "from keras.layers import Bidirectional, GlobalMaxPool1D\n",
    "from keras.models import Model\n",
    "from keras import initializers, regularizers, constraints, optimizers, layers\n",
    "import gensim \n",
    "from nltk.stem.snowball import SnowballStemmer\n",
    "import statistics\n",
    "from gensim.models import Word2Vec\n",
    "from nltk.tokenize import RegexpTokenizer\n",
    "print(\"sklearn version:\",sklearn.__version__)\n",
    "print(\"keras version:\",keras.__version__)\n",
    "print(\"tensorflow version:\",tf.__version__)\n",
    "print(\"pandas version:\",pd.__version__)\n",
    "print(\"numpy version:\",np.__version__)\n",
    "print(\"python version:\",sys.version)"
   ]
  },
  {
   "cell_type": "code",
   "execution_count": 104,
   "metadata": {},
   "outputs": [],
   "source": [
    "tokenizer = RegexpTokenizer(r'\\w{3,}')\n",
    "def simple_cleaning(test_str):\n",
    "    test_str = re.sub(r\"\\n\", \" \", test_str, 0, re.MULTILINE)\n",
    "    test_str = re.sub(r\"(\\$+)(?:(?!\\1)[\\s\\S])*\\1\", \"\", test_str, 0, re.MULTILINE)\n",
    "    test_str = re.sub(r\"-\", \" \", test_str, 0, re.MULTILINE)\n",
    "    test_str = re.sub(r\"[\\\\'/{}\\\":\\(\\).,]\", \"\", test_str, 0, re.MULTILINE)\n",
    "    test_str = test_str.lower()\n",
    "    return test_str.lower()\n"
   ]
  },
  {
   "cell_type": "code",
   "execution_count": 80,
   "metadata": {},
   "outputs": [
    {
     "name": "stderr",
     "output_type": "stream",
     "text": [
      "/Users/ben/anaconda3/lib/python3.6/site-packages/IPython/core/interactiveshell.py:2698: DtypeWarning: Columns (5) have mixed types. Specify dtype option on import or set low_memory=False.\n",
      "  interactivity=interactivity, compiler=compiler, result=result)\n"
     ]
    }
   ],
   "source": [
    "df=pd.read_csv(\"complete_math_arxiv.csv\")"
   ]
  },
  {
   "cell_type": "code",
   "execution_count": 105,
   "metadata": {},
   "outputs": [],
   "source": [
    "df['simple_abstract']=df['abstract'].apply(lambda x:simple_cleaning(x))"
   ]
  },
  {
   "cell_type": "markdown",
   "metadata": {},
   "source": [
    "## let we prepare the list of sent, each sent is a list of words\n",
    "## we will just skip stopwords and any words less than length 3\n",
    "###  use snowballstemmer to further clean the tokens"
   ]
  },
  {
   "cell_type": "code",
   "execution_count": 226,
   "metadata": {},
   "outputs": [],
   "source": [
    "from nltk.stem.snowball import SnowballStemmer\n",
    "stemmer = SnowballStemmer(\"english\")\n",
    "tokenizer_regex = RegexpTokenizer(r'\\w{3,}')\n",
    "df['list_simple_abstract']=df['simple_abstract'].apply(lambda x: tokenizer_regex.tokenize(x))\n",
    "from nltk.corpus import stopwords\n",
    "STOPS=set(stopwords.words('english'))\n",
    "df['list_simple_abstract'] = df['list_simple_abstract'].apply(lambda x : [stemmer.stem(y.strip()) for y in x if y not in STOPS])\n",
    "df['list_simple_abstract'] = df['list_simple_abstract'].apply(lambda x : [stemmer.stem(y.strip()) for y in x if (y not in STOPS) and (len(re.compile(r'\\d').findall(y))==0)])"
   ]
  },
  {
   "cell_type": "markdown",
   "metadata": {},
   "source": []
  },
  {
   "cell_type": "code",
   "execution_count": 247,
   "metadata": {},
   "outputs": [],
   "source": [
    "df['simple_abstract']=df['list_simple_abstract'].apply(lambda x :\" \".join(x))"
   ]
  },
  {
   "cell_type": "code",
   "execution_count": null,
   "metadata": {},
   "outputs": [],
   "source": []
  },
  {
   "cell_type": "code",
   "execution_count": 139,
   "metadata": {},
   "outputs": [],
   "source": [
    "#####Preprocess\n",
    "def list_of_authors(text):\n",
    "    names=[]\n",
    "    name_list=text.split(',')\n",
    "    for name in name_list:\n",
    "        name=name.strip()\n",
    "        if name[0]=='[':\n",
    "            name=name[1:]\n",
    "        if name[-1]==']':\n",
    "            name=name[:-1]\n",
    "        name=name[1:-1]\n",
    "        names+=[name]\n",
    "    return names    \n",
    "\n",
    "\n",
    "def list_of_categories(text):\n",
    "    pat=re.compile(r'math.[A-Z][A-Z]')\n",
    "    return pat.findall(text)\n",
    "\n",
    "df['categories']=df['categories'].apply(lambda x: list_of_categories(x))\n",
    "df['authors']=df['authors'].apply(lambda x: list_of_authors(x))\n",
    "df['created']=df['created'].apply(lambda x:datetime.datetime.strptime(x, \"%Y-%m-%d\"))\n",
    "if \"clean_abstract\" not in df.columns:\n",
    "    df['clean_abstract']=df['abstract'].apply(lambda x: clean.transform(x))\n",
    "      \n",
    "all_cat={}\n",
    "for i in df.index:\n",
    "    paper_cats=df.loc[i,\"categories\"]\n",
    "    for cat in paper_cats:\n",
    "        if cat in all_cat:\n",
    "            all_cat[cat]+=1\n",
    "        else:\n",
    "            all_cat[cat]=1\n",
    "\n",
    "list_of_all_cat=sorted(list(all_cat.items()),key=lambda x: x[1], reverse=True)            \n",
    "all_cats=list(zip(*list_of_all_cat))[0]\n",
    "index_to_cat={}\n",
    "for i in range(len(all_cats)):\n",
    "    index_to_cat[i]=all_cats[i]    \n",
    "\n",
    "for i in range(len(index_to_cat)):\n",
    "    df[index_to_cat[i]]=df[\"categories\"].apply(lambda x: 1 if index_to_cat[i] in x else 0)\n",
    "\n",
    "      \n",
    "###make \n",
    "\n",
    "df=df[df['clean_abstract'].apply(lambda x : type(x)!=type(3.0))]\n",
    "df=df[df['categories'].apply(lambda x : len(x)>0)]    \n",
    "df=df.reset_index().drop(columns=['index'])"
   ]
  },
  {
   "cell_type": "code",
   "execution_count": 235,
   "metadata": {},
   "outputs": [],
   "source": [
    "train=df[df['created']<=datetime.datetime(year=2017,month=1,day=1)]\n",
    "valid=df[(df['created']<datetime.datetime(year=2018,month=1,day=1))&(df['created']>datetime.datetime(year=2017,month=1,day=1))]\n",
    "test=df[df['created']>=datetime.datetime(year=2018,month=1,day=1)]"
   ]
  },
  {
   "cell_type": "markdown",
   "metadata": {},
   "source": [
    "# FastText\n",
    "### Now we can try FastText\n",
    "### One cool thing about FastText is that it doesn't require us to see the wrod before.\n",
    "### Now we can directly process each input text as a matrix of the form (max_len,max_features), where max_len is the padded sequence length and max_features is the dim of embedding matrix of fasttext"
   ]
  },
  {
   "cell_type": "code",
   "execution_count": 227,
   "metadata": {},
   "outputs": [],
   "source": [
    "from gensim.models import FastText\n",
    "max_feature=100\n",
    "model_ted = FastText(list(df['list_simple_abstract']), size=100, window=3, min_count=2, workers=4,sg=1)"
   ]
  },
  {
   "cell_type": "code",
   "execution_count": 228,
   "metadata": {},
   "outputs": [],
   "source": [
    "model_ted.save(\"FastText.model\")"
   ]
  },
  {
   "cell_type": "code",
   "execution_count": 229,
   "metadata": {},
   "outputs": [],
   "source": [
    "model_ted = FastText.load(\"FastText.model\")"
   ]
  },
  {
   "cell_type": "code",
   "execution_count": 230,
   "metadata": {},
   "outputs": [],
   "source": [
    "word_counts = list(model_ted.wv.vocab)"
   ]
  },
  {
   "cell_type": "code",
   "execution_count": 239,
   "metadata": {},
   "outputs": [],
   "source": [
    "all_words=[]\n",
    "for i in df.index:\n",
    "    all_words+=df.loc[i,'list_simple_abstract']\n",
    "all_words=set(all_words)    "
   ]
  },
  {
   "cell_type": "code",
   "execution_count": 242,
   "metadata": {},
   "outputs": [],
   "source": [
    "big_embedding=np.zeros(shape=(len(all_words),max_feature))"
   ]
  },
  {
   "cell_type": "code",
   "execution_count": null,
   "metadata": {},
   "outputs": [],
   "source": []
  },
  {
   "cell_type": "code",
   "execution_count": 231,
   "metadata": {},
   "outputs": [],
   "source": [
    "max_len = 200\n",
    "def embedding_fasttext(list_words,max_len,max_features):\n",
    "    mat=np.zeros(shape=(max_len,max_features))\n",
    "    temp_list_words=[]\n",
    "    for x in list_words:\n",
    "        if x.strip() in model_ted.wv:\n",
    "            temp_list_words+=[x.strip()]\n",
    "    list_words=temp_list_words\n",
    "    \n",
    "    if len(list_words)>=200:\n",
    "        for i in range(200):\n",
    "            mat[i,:]=model_ted.wv[list_words[i]]\n",
    "    else:\n",
    "        length=len(list_words)\n",
    "        for i in range(200-length,200):\n",
    "            mat[i,:]=model_ted.wv[list_words[i-(200-length)]]\n",
    "    return mat        "
   ]
  },
  {
   "cell_type": "code",
   "execution_count": 250,
   "metadata": {},
   "outputs": [],
   "source": [
    "tokenizer=Tokenizer()\n",
    "tokenizer.fit_on_texts(list(df['simple_abstract']))"
   ]
  },
  {
   "cell_type": "code",
   "execution_count": 266,
   "metadata": {},
   "outputs": [],
   "source": [
    "def build_embedding():\n",
    "    embedding=np.zeros(shape=(len(tokenizer.word_index)+1,100))\n",
    "    for word,index in tokenizer.word_index.items():\n",
    "        if word in model_ted.wv:\n",
    "            embedding[index,]=model_ted.wv[word]\n",
    "    return embedding"
   ]
  },
  {
   "cell_type": "code",
   "execution_count": 267,
   "metadata": {},
   "outputs": [],
   "source": [
    "embedding_matrix = build_embedding()"
   ]
  },
  {
   "cell_type": "markdown",
   "metadata": {},
   "source": [
    "#### now we can train the model"
   ]
  },
  {
   "cell_type": "code",
   "execution_count": 271,
   "metadata": {},
   "outputs": [
    {
     "name": "stdout",
     "output_type": "stream",
     "text": [
      "314424\n",
      "37049\n",
      "36338\n"
     ]
    }
   ],
   "source": [
    "train=df[df['created']<=datetime.datetime(year=2017,month=1,day=1)]\n",
    "valid=df[(df['created']<datetime.datetime(year=2018,month=1,day=1))&(df['created']>datetime.datetime(year=2017,month=1,day=1))]\n",
    "test=df[df['created']>=datetime.datetime(year=2018,month=1,day=1)]\n",
    "print(len(train))\n",
    "print(len(valid))\n",
    "print(len(test))\n",
    "list_tokenized_train = tokenizer.texts_to_sequences(train['simple_abstract'])\n",
    "list_tokenized_valid = tokenizer.texts_to_sequences(valid['simple_abstract'])\n",
    "list_tokenized_test = tokenizer.texts_to_sequences(test['simple_abstract'])"
   ]
  },
  {
   "cell_type": "code",
   "execution_count": 272,
   "metadata": {},
   "outputs": [
    {
     "data": {
      "text/plain": [
       "(134544, 100)"
      ]
     },
     "execution_count": 272,
     "metadata": {},
     "output_type": "execute_result"
    }
   ],
   "source": [
    "embedding_matrix.shape"
   ]
  },
  {
   "cell_type": "code",
   "execution_count": 274,
   "metadata": {},
   "outputs": [
    {
     "data": {
      "text/plain": [
       "(array([8.56620e+04, 1.58834e+05, 8.64950e+04, 3.77250e+04, 1.49220e+04,\n",
       "        4.05600e+03, 9.50000e+01, 1.30000e+01, 5.00000e+00, 4.00000e+00]),\n",
       " array([  0. ,  30.9,  61.8,  92.7, 123.6, 154.5, 185.4, 216.3, 247.2,\n",
       "        278.1, 309. ]),\n",
       " <a list of 10 Patch objects>)"
      ]
     },
     "execution_count": 274,
     "metadata": {},
     "output_type": "execute_result"
    },
    {
     "data": {
      "image/png": "[encoded data removed]",
      "text/plain": [
       "<Figure size 432x288 with 1 Axes>"
      ]
     },
     "metadata": {},
     "output_type": "display_data"
    }
   ],
   "source": [
    "all_lengths=list(df['list_simple_abstract'].apply(lambda x:len(x)))\n",
    "plt.hist(all_lengths)"
   ]
  },
  {
   "cell_type": "markdown",
   "metadata": {},
   "source": [
    "## choose the padding length to be 200"
   ]
  },
  {
   "cell_type": "code",
   "execution_count": 282,
   "metadata": {},
   "outputs": [],
   "source": [
    "maxlen = 200\n",
    "X_train = pad_sequences(list_tokenized_train, maxlen=maxlen)\n",
    "X_valid = pad_sequences(list_tokenized_valid, maxlen=maxlen)\n",
    "X_test = pad_sequences(list_tokenized_test, maxlen=maxlen)"
   ]
  },
  {
   "cell_type": "code",
   "execution_count": 305,
   "metadata": {},
   "outputs": [],
   "source": [
    "from keras.layers import TimeDistributed\n",
    "from keras.layers import Bidirectional\n",
    "from keras.layers import Flatten\n",
    "from keras.layers import BatchNormalization\n",
    "from keras.layers import SpatialDropout1D\n",
    "from keras.layers import GRU,GlobalAveragePooling1D,GlobalMaxPooling1D,Conv1D,concatenate\n",
    "num_class=len(index_to_cat)\n",
    "inp = Input(shape=(200, ))\n",
    "###then do embedding\n",
    "embed_size = 100\n",
    "max_features = 134544\n",
    "x = Embedding(max_features, embed_size,weights=[embedding_matrix],trainable=True)(inp)\n",
    "\n",
    "\n",
    "### then do LSTM\n",
    "x = Bidirectional(GRU(256,name='LSTM_layer',dropout=0.1, recurrent_dropout=0.1,return_sequences=True))(x)\n",
    "### 1D conv\n",
    "x = Conv1D(256, kernel_size = 3, padding = \"valid\", kernel_initializer = \"glorot_uniform\")(x)\n",
    "\n",
    "x = GlobalMaxPooling1D()(x)\n",
    "\n",
    "### maxpool\n",
    "#x = GlobalMaxPool1D()(x)\n",
    "### batchnor\n",
    "#x = BatchNormalization()(x)\n",
    "x = Dense(128, activation=\"relu\")(x)\n",
    "\n",
    "### dropout\n",
    "x = Dropout(0.1)(x)\n",
    "### relu\n",
    "x = Dense(64, activation=\"relu\")(x)\n",
    "### dropout\n",
    "x = Dropout(0.1)(x)\n",
    "###\n",
    "#x = BatchNormalization()(x)\n",
    "x = Dense(num_class , activation=\"sigmoid\")(x)"
   ]
  },
  {
   "cell_type": "code",
   "execution_count": 306,
   "metadata": {},
   "outputs": [
    {
     "name": "stdout",
     "output_type": "stream",
     "text": [
      "_________________________________________________________________\n",
      "Layer (type)                 Output Shape              Param #   \n",
      "=================================================================\n",
      "input_11 (InputLayer)        (None, 200)               0         \n",
      "_________________________________________________________________\n",
      "embedding_11 (Embedding)     (None, 200, 100)          13454400  \n",
      "_________________________________________________________________\n",
      "bidirectional_11 (Bidirectio (None, 200, 512)          548352    \n",
      "_________________________________________________________________\n",
      "conv1d_11 (Conv1D)           (None, 198, 256)          393472    \n",
      "_________________________________________________________________\n",
      "global_max_pooling1d_11 (Glo (None, 256)               0         \n",
      "_________________________________________________________________\n",
      "dense_23 (Dense)             (None, 128)               32896     \n",
      "_________________________________________________________________\n",
      "dropout_21 (Dropout)         (None, 128)               0         \n",
      "_________________________________________________________________\n",
      "dense_24 (Dense)             (None, 64)                8256      \n",
      "_________________________________________________________________\n",
      "dropout_22 (Dropout)         (None, 64)                0         \n",
      "_________________________________________________________________\n",
      "dense_25 (Dense)             (None, 32)                2080      \n",
      "=================================================================\n",
      "Total params: 14,439,456\n",
      "Trainable params: 14,439,456\n",
      "Non-trainable params: 0\n",
      "_________________________________________________________________\n"
     ]
    }
   ],
   "source": [
    "model = Model(inputs=inp, outputs=x)\n",
    "model.compile(loss='binary_crossentropy',\n",
    "                  optimizer='adam',\n",
    "                  metrics=['categorical_accuracy'])\n",
    "model.summary()"
   ]
  },
  {
   "cell_type": "code",
   "execution_count": 278,
   "metadata": {},
   "outputs": [],
   "source": [
    "y_train = train.apply(lambda row:[row[index_to_cat[i]] for i in range(num_class)],axis=1)\n",
    "y_train = np.array(list(y_train))\n",
    "y_valid = valid.apply(lambda row:[row[index_to_cat[i]] for i in range(num_class)],axis=1)\n",
    "y_valid = np.array(list(y_valid))\n",
    "y_test = test.apply(lambda row:[row[index_to_cat[i]] for i in range(num_class)],axis=1)\n",
    "y_test = np.array(list(y_test))"
   ]
  },
  {
   "cell_type": "code",
   "execution_count": 307,
   "metadata": {},
   "outputs": [
    {
     "name": "stdout",
     "output_type": "stream",
     "text": [
      "Train on 314424 samples, validate on 37049 samples\n",
      "Epoch 1/10\n",
      "314424/314424 [==============================] - 11553s 37ms/step - loss: 0.0835 - categorical_accuracy: 0.6088 - val_loss: 0.0621 - val_categorical_accuracy: 0.6938\n",
      "\n",
      "Epoch 00001: val_loss improved from inf to 0.06207, saving model to /Users/ben/Documents/NLP project/fasttext_embedding_max_pool_biGRU.h5\n",
      "Epoch 2/10\n",
      "314424/314424 [==============================] - 9607s 31ms/step - loss: 0.0677 - categorical_accuracy: 0.6709 - val_loss: 0.0593 - val_categorical_accuracy: 0.7012\n",
      "\n",
      "Epoch 00002: val_loss improved from 0.06207 to 0.05928, saving model to /Users/ben/Documents/NLP project/fasttext_embedding_max_pool_biGRU.h5\n",
      "Epoch 3/10\n",
      "314424/314424 [==============================] - 9554s 30ms/step - loss: 0.0627 - categorical_accuracy: 0.6888 - val_loss: 0.0599 - val_categorical_accuracy: 0.6989\n",
      "\n",
      "Epoch 00003: val_loss did not improve from 0.05928\n",
      "Epoch 4/10\n",
      "314424/314424 [==============================] - 9713s 31ms/step - loss: 0.0581 - categorical_accuracy: 0.7068 - val_loss: 0.0600 - val_categorical_accuracy: 0.7055\n",
      "\n",
      "Epoch 00004: val_loss did not improve from 0.05928\n",
      "Epoch 5/10\n",
      " 60160/314424 [====>.........................] - ETA: 2:06:08 - loss: 0.0544 - categorical_accuracy: 0.7192"
     ]
    },
    {
     "ename": "KeyboardInterrupt",
     "evalue": "",
     "output_type": "error",
     "traceback": [
      "\u001b[0;31m---------------------------------------------------------------------------\u001b[0m",
      "\u001b[0;31mKeyboardInterrupt\u001b[0m                         Traceback (most recent call last)",
      "\u001b[0;32m<ipython-input-307-24035d38fc6a>\u001b[0m in \u001b[0;36m<module>\u001b[0;34m()\u001b[0m\n\u001b[1;32m      7\u001b[0m \u001b[0;31m#es = EarlyStopping(monitor='val_loss', mode='min', verbose=1)\u001b[0m\u001b[0;34m\u001b[0m\u001b[0;34m\u001b[0m\u001b[0;34m\u001b[0m\u001b[0m\n\u001b[1;32m      8\u001b[0m \u001b[0mcheckpointer\u001b[0m \u001b[0;34m=\u001b[0m \u001b[0mModelCheckpoint\u001b[0m\u001b[0;34m(\u001b[0m\u001b[0mfilepath\u001b[0m\u001b[0;34m=\u001b[0m\u001b[0mcwd\u001b[0m\u001b[0;34m+\u001b[0m\u001b[0;34m\"/fasttext_embedding_max_pool_biGRU.h5\"\u001b[0m\u001b[0;34m,\u001b[0m \u001b[0mverbose\u001b[0m\u001b[0;34m=\u001b[0m\u001b[0;36m1\u001b[0m\u001b[0;34m,\u001b[0m \u001b[0msave_best_only\u001b[0m\u001b[0;34m=\u001b[0m\u001b[0;32mTrue\u001b[0m\u001b[0;34m)\u001b[0m\u001b[0;34m\u001b[0m\u001b[0;34m\u001b[0m\u001b[0m\n\u001b[0;32m----> 9\u001b[0;31m \u001b[0mhistory\u001b[0m \u001b[0;34m=\u001b[0m \u001b[0mmodel\u001b[0m\u001b[0;34m.\u001b[0m\u001b[0mfit\u001b[0m\u001b[0;34m(\u001b[0m\u001b[0mX_train\u001b[0m\u001b[0;34m,\u001b[0m\u001b[0my_train\u001b[0m\u001b[0;34m,\u001b[0m \u001b[0mbatch_size\u001b[0m\u001b[0;34m=\u001b[0m\u001b[0mbatch_size\u001b[0m\u001b[0;34m,\u001b[0m \u001b[0mepochs\u001b[0m\u001b[0;34m=\u001b[0m\u001b[0mepochs\u001b[0m\u001b[0;34m,\u001b[0m \u001b[0mvalidation_data\u001b[0m\u001b[0;34m=\u001b[0m\u001b[0;34m(\u001b[0m\u001b[0mX_valid\u001b[0m\u001b[0;34m,\u001b[0m \u001b[0my_valid\u001b[0m\u001b[0;34m)\u001b[0m\u001b[0;34m,\u001b[0m\u001b[0mcallbacks\u001b[0m\u001b[0;34m=\u001b[0m\u001b[0;34m[\u001b[0m\u001b[0mcheckpointer\u001b[0m\u001b[0;34m]\u001b[0m\u001b[0;34m)\u001b[0m\u001b[0;34m\u001b[0m\u001b[0;34m\u001b[0m\u001b[0m\n\u001b[0m",
      "\u001b[0;32m~/anaconda3/lib/python3.6/site-packages/keras/engine/training.py\u001b[0m in \u001b[0;36mfit\u001b[0;34m(self, x, y, batch_size, epochs, verbose, callbacks, validation_split, validation_data, shuffle, class_weight, sample_weight, initial_epoch, steps_per_epoch, validation_steps, **kwargs)\u001b[0m\n\u001b[1;32m   1038\u001b[0m                                         \u001b[0minitial_epoch\u001b[0m\u001b[0;34m=\u001b[0m\u001b[0minitial_epoch\u001b[0m\u001b[0;34m,\u001b[0m\u001b[0;34m\u001b[0m\u001b[0;34m\u001b[0m\u001b[0m\n\u001b[1;32m   1039\u001b[0m                                         \u001b[0msteps_per_epoch\u001b[0m\u001b[0;34m=\u001b[0m\u001b[0msteps_per_epoch\u001b[0m\u001b[0;34m,\u001b[0m\u001b[0;34m\u001b[0m\u001b[0;34m\u001b[0m\u001b[0m\n\u001b[0;32m-> 1040\u001b[0;31m                                         validation_steps=validation_steps)\n\u001b[0m\u001b[1;32m   1041\u001b[0m \u001b[0;34m\u001b[0m\u001b[0m\n\u001b[1;32m   1042\u001b[0m     def evaluate(self, x=None, y=None,\n",
      "\u001b[0;32m~/anaconda3/lib/python3.6/site-packages/keras/engine/training_arrays.py\u001b[0m in \u001b[0;36mfit_loop\u001b[0;34m(model, fit_function, fit_inputs, out_labels, batch_size, epochs, verbose, callbacks, val_function, val_inputs, shuffle, callback_metrics, initial_epoch, steps_per_epoch, validation_steps)\u001b[0m\n\u001b[1;32m    198\u001b[0m                     \u001b[0mins_batch\u001b[0m\u001b[0;34m[\u001b[0m\u001b[0mi\u001b[0m\u001b[0;34m]\u001b[0m \u001b[0;34m=\u001b[0m \u001b[0mins_batch\u001b[0m\u001b[0;34m[\u001b[0m\u001b[0mi\u001b[0m\u001b[0;34m]\u001b[0m\u001b[0;34m.\u001b[0m\u001b[0mtoarray\u001b[0m\u001b[0;34m(\u001b[0m\u001b[0;34m)\u001b[0m\u001b[0;34m\u001b[0m\u001b[0;34m\u001b[0m\u001b[0m\n\u001b[1;32m    199\u001b[0m \u001b[0;34m\u001b[0m\u001b[0m\n\u001b[0;32m--> 200\u001b[0;31m                 \u001b[0mouts\u001b[0m \u001b[0;34m=\u001b[0m \u001b[0mfit_function\u001b[0m\u001b[0;34m(\u001b[0m\u001b[0mins_batch\u001b[0m\u001b[0;34m)\u001b[0m\u001b[0;34m\u001b[0m\u001b[0;34m\u001b[0m\u001b[0m\n\u001b[0m\u001b[1;32m    201\u001b[0m                 \u001b[0mouts\u001b[0m \u001b[0;34m=\u001b[0m \u001b[0mto_list\u001b[0m\u001b[0;34m(\u001b[0m\u001b[0mouts\u001b[0m\u001b[0;34m)\u001b[0m\u001b[0;34m\u001b[0m\u001b[0;34m\u001b[0m\u001b[0m\n\u001b[1;32m    202\u001b[0m                 \u001b[0;32mfor\u001b[0m \u001b[0ml\u001b[0m\u001b[0;34m,\u001b[0m \u001b[0mo\u001b[0m \u001b[0;32min\u001b[0m \u001b[0mzip\u001b[0m\u001b[0;34m(\u001b[0m\u001b[0mout_labels\u001b[0m\u001b[0;34m,\u001b[0m \u001b[0mouts\u001b[0m\u001b[0;34m)\u001b[0m\u001b[0;34m:\u001b[0m\u001b[0;34m\u001b[0m\u001b[0;34m\u001b[0m\u001b[0m\n",
      "\u001b[0;32m~/anaconda3/lib/python3.6/site-packages/keras/backend/tensorflow_backend.py\u001b[0m in \u001b[0;36m__call__\u001b[0;34m(self, inputs)\u001b[0m\n\u001b[1;32m   2948\u001b[0m                     \u001b[0;32mreturn\u001b[0m \u001b[0mself\u001b[0m\u001b[0;34m.\u001b[0m\u001b[0m_legacy_call\u001b[0m\u001b[0;34m(\u001b[0m\u001b[0minputs\u001b[0m\u001b[0;34m)\u001b[0m\u001b[0;34m\u001b[0m\u001b[0;34m\u001b[0m\u001b[0m\n\u001b[1;32m   2949\u001b[0m \u001b[0;34m\u001b[0m\u001b[0m\n\u001b[0;32m-> 2950\u001b[0;31m             \u001b[0;32mreturn\u001b[0m \u001b[0mself\u001b[0m\u001b[0;34m.\u001b[0m\u001b[0m_call\u001b[0m\u001b[0;34m(\u001b[0m\u001b[0minputs\u001b[0m\u001b[0;34m)\u001b[0m\u001b[0;34m\u001b[0m\u001b[0;34m\u001b[0m\u001b[0m\n\u001b[0m\u001b[1;32m   2951\u001b[0m         \u001b[0;32melse\u001b[0m\u001b[0;34m:\u001b[0m\u001b[0;34m\u001b[0m\u001b[0;34m\u001b[0m\u001b[0m\n\u001b[1;32m   2952\u001b[0m             \u001b[0;32mif\u001b[0m \u001b[0mpy_any\u001b[0m\u001b[0;34m(\u001b[0m\u001b[0mis_tensor\u001b[0m\u001b[0;34m(\u001b[0m\u001b[0mx\u001b[0m\u001b[0;34m)\u001b[0m \u001b[0;32mfor\u001b[0m \u001b[0mx\u001b[0m \u001b[0;32min\u001b[0m \u001b[0minputs\u001b[0m\u001b[0;34m)\u001b[0m\u001b[0;34m:\u001b[0m\u001b[0;34m\u001b[0m\u001b[0;34m\u001b[0m\u001b[0m\n",
      "\u001b[0;32m~/anaconda3/lib/python3.6/site-packages/keras/backend/tensorflow_backend.py\u001b[0m in \u001b[0;36m_call\u001b[0;34m(self, inputs)\u001b[0m\n\u001b[1;32m   2906\u001b[0m             \u001b[0mfetched\u001b[0m \u001b[0;34m=\u001b[0m \u001b[0mself\u001b[0m\u001b[0;34m.\u001b[0m\u001b[0m_callable_fn\u001b[0m\u001b[0;34m(\u001b[0m\u001b[0;34m*\u001b[0m\u001b[0marray_vals\u001b[0m\u001b[0;34m,\u001b[0m \u001b[0mrun_metadata\u001b[0m\u001b[0;34m=\u001b[0m\u001b[0mself\u001b[0m\u001b[0;34m.\u001b[0m\u001b[0mrun_metadata\u001b[0m\u001b[0;34m)\u001b[0m\u001b[0;34m\u001b[0m\u001b[0;34m\u001b[0m\u001b[0m\n\u001b[1;32m   2907\u001b[0m         \u001b[0;32melse\u001b[0m\u001b[0;34m:\u001b[0m\u001b[0;34m\u001b[0m\u001b[0;34m\u001b[0m\u001b[0m\n\u001b[0;32m-> 2908\u001b[0;31m             \u001b[0mfetched\u001b[0m \u001b[0;34m=\u001b[0m \u001b[0mself\u001b[0m\u001b[0;34m.\u001b[0m\u001b[0m_callable_fn\u001b[0m\u001b[0;34m(\u001b[0m\u001b[0;34m*\u001b[0m\u001b[0marray_vals\u001b[0m\u001b[0;34m)\u001b[0m\u001b[0;34m\u001b[0m\u001b[0;34m\u001b[0m\u001b[0m\n\u001b[0m\u001b[1;32m   2909\u001b[0m         \u001b[0;32mreturn\u001b[0m \u001b[0mfetched\u001b[0m\u001b[0;34m[\u001b[0m\u001b[0;34m:\u001b[0m\u001b[0mlen\u001b[0m\u001b[0;34m(\u001b[0m\u001b[0mself\u001b[0m\u001b[0;34m.\u001b[0m\u001b[0moutputs\u001b[0m\u001b[0;34m)\u001b[0m\u001b[0;34m]\u001b[0m\u001b[0;34m\u001b[0m\u001b[0;34m\u001b[0m\u001b[0m\n\u001b[1;32m   2910\u001b[0m \u001b[0;34m\u001b[0m\u001b[0m\n",
      "\u001b[0;32m~/anaconda3/lib/python3.6/site-packages/tensorflow/python/client/session.py\u001b[0m in \u001b[0;36m__call__\u001b[0;34m(self, *args, **kwargs)\u001b[0m\n\u001b[1;32m   1437\u001b[0m           ret = tf_session.TF_SessionRunCallable(\n\u001b[1;32m   1438\u001b[0m               \u001b[0mself\u001b[0m\u001b[0;34m.\u001b[0m\u001b[0m_session\u001b[0m\u001b[0;34m.\u001b[0m\u001b[0m_session\u001b[0m\u001b[0;34m,\u001b[0m \u001b[0mself\u001b[0m\u001b[0;34m.\u001b[0m\u001b[0m_handle\u001b[0m\u001b[0;34m,\u001b[0m \u001b[0margs\u001b[0m\u001b[0;34m,\u001b[0m \u001b[0mstatus\u001b[0m\u001b[0;34m,\u001b[0m\u001b[0;34m\u001b[0m\u001b[0;34m\u001b[0m\u001b[0m\n\u001b[0;32m-> 1439\u001b[0;31m               run_metadata_ptr)\n\u001b[0m\u001b[1;32m   1440\u001b[0m         \u001b[0;32mif\u001b[0m \u001b[0mrun_metadata\u001b[0m\u001b[0;34m:\u001b[0m\u001b[0;34m\u001b[0m\u001b[0;34m\u001b[0m\u001b[0m\n\u001b[1;32m   1441\u001b[0m           \u001b[0mproto_data\u001b[0m \u001b[0;34m=\u001b[0m \u001b[0mtf_session\u001b[0m\u001b[0;34m.\u001b[0m\u001b[0mTF_GetBuffer\u001b[0m\u001b[0;34m(\u001b[0m\u001b[0mrun_metadata_ptr\u001b[0m\u001b[0;34m)\u001b[0m\u001b[0;34m\u001b[0m\u001b[0;34m\u001b[0m\u001b[0m\n",
      "\u001b[0;31mKeyboardInterrupt\u001b[0m: "
     ]
    }
   ],
   "source": [
    "from keras.callbacks import EarlyStopping\n",
    "from keras.callbacks import ModelCheckpoint\n",
    "import os\n",
    "cwd = os.getcwd()\n",
    "batch_size = 64\n",
    "epochs = 10\n",
    "#es = EarlyStopping(monitor='val_loss', mode='min', verbose=1)\n",
    "checkpointer = ModelCheckpoint(filepath=cwd+\"/fasttext_embedding_max_pool_biGRU.h5\", verbose=1, save_best_only=True)\n",
    "history = model.fit(X_train,y_train, batch_size=batch_size, epochs=epochs, validation_data=(X_valid, y_valid),callbacks=[checkpointer])"
   ]
  },
  {
   "cell_type": "code",
   "execution_count": 308,
   "metadata": {},
   "outputs": [
    {
     "name": "stdout",
     "output_type": "stream",
     "text": [
      "314424/314424 [==============================] - 3435s 11ms/step\n",
      "37049/37049 [==============================] - 452s 12ms/step\n",
      "Train: 0.740, Test: 0.705\n"
     ]
    },
    {
     "ename": "NameError",
     "evalue": "name 'history' is not defined",
     "output_type": "error",
     "traceback": [
      "\u001b[0;31m---------------------------------------------------------------------------\u001b[0m",
      "\u001b[0;31mNameError\u001b[0m                                 Traceback (most recent call last)",
      "\u001b[0;32m<ipython-input-308-847f44e1355e>\u001b[0m in \u001b[0;36m<module>\u001b[0;34m()\u001b[0m\n\u001b[1;32m      3\u001b[0m \u001b[0mprint\u001b[0m\u001b[0;34m(\u001b[0m\u001b[0;34m'Train: %.3f, Test: %.3f'\u001b[0m \u001b[0;34m%\u001b[0m \u001b[0;34m(\u001b[0m\u001b[0mtrain_acc\u001b[0m\u001b[0;34m,\u001b[0m \u001b[0mtest_acc\u001b[0m\u001b[0;34m)\u001b[0m\u001b[0;34m)\u001b[0m\u001b[0;34m\u001b[0m\u001b[0;34m\u001b[0m\u001b[0m\n\u001b[1;32m      4\u001b[0m \u001b[0;31m# plot training history\u001b[0m\u001b[0;34m\u001b[0m\u001b[0;34m\u001b[0m\u001b[0;34m\u001b[0m\u001b[0m\n\u001b[0;32m----> 5\u001b[0;31m \u001b[0mplt\u001b[0m\u001b[0;34m.\u001b[0m\u001b[0mplot\u001b[0m\u001b[0;34m(\u001b[0m\u001b[0mhistory\u001b[0m\u001b[0;34m.\u001b[0m\u001b[0mhistory\u001b[0m\u001b[0;34m[\u001b[0m\u001b[0;34m'loss'\u001b[0m\u001b[0;34m]\u001b[0m\u001b[0;34m,\u001b[0m \u001b[0mlabel\u001b[0m\u001b[0;34m=\u001b[0m\u001b[0;34m'train'\u001b[0m\u001b[0;34m)\u001b[0m\u001b[0;34m\u001b[0m\u001b[0;34m\u001b[0m\u001b[0m\n\u001b[0m\u001b[1;32m      6\u001b[0m \u001b[0mplt\u001b[0m\u001b[0;34m.\u001b[0m\u001b[0mplot\u001b[0m\u001b[0;34m(\u001b[0m\u001b[0mhistory\u001b[0m\u001b[0;34m.\u001b[0m\u001b[0mhistory\u001b[0m\u001b[0;34m[\u001b[0m\u001b[0;34m'val_loss'\u001b[0m\u001b[0;34m]\u001b[0m\u001b[0;34m,\u001b[0m \u001b[0mlabel\u001b[0m\u001b[0;34m=\u001b[0m\u001b[0;34m'test'\u001b[0m\u001b[0;34m)\u001b[0m\u001b[0;34m\u001b[0m\u001b[0;34m\u001b[0m\u001b[0m\n\u001b[1;32m      7\u001b[0m \u001b[0mplt\u001b[0m\u001b[0;34m.\u001b[0m\u001b[0mlegend\u001b[0m\u001b[0;34m(\u001b[0m\u001b[0;34m)\u001b[0m\u001b[0;34m\u001b[0m\u001b[0;34m\u001b[0m\u001b[0m\n",
      "\u001b[0;31mNameError\u001b[0m: name 'history' is not defined"
     ]
    }
   ],
   "source": [
    "_, train_acc = model.evaluate(X_train, y_train, verbose=1)\n",
    "_, test_acc = model.evaluate(X_valid, y_valid, verbose=1)\n",
    "print('Train: %.3f, Test: %.3f' % (train_acc, test_acc))\n",
    "# plot training history\n",
    "plt.plot(history.history['loss'], label='train')\n",
    "plt.plot(history.history['val_loss'], label='test')\n",
    "plt.legend()\n",
    "plt.show()"
   ]
  },
  {
   "cell_type": "code",
   "execution_count": 313,
   "metadata": {},
   "outputs": [],
   "source": [
    "from keras.models import load_model\n",
    "model=load_model('fasttext_embedding_max_pool_biGRU.h5')"
   ]
  },
  {
   "cell_type": "code",
   "execution_count": 314,
   "metadata": {},
   "outputs": [
    {
     "name": "stdout",
     "output_type": "stream",
     "text": [
      "36338/36338 [==============================] - 501s 14ms/step\n",
      "0.703258297092894\n"
     ]
    }
   ],
   "source": [
    "_, test_acc = model.evaluate(X_test, y_test, verbose=1)\n",
    "print(test_acc)"
   ]
  },
  {
   "cell_type": "code",
   "execution_count": 315,
   "metadata": {},
   "outputs": [
    {
     "name": "stdout",
     "output_type": "stream",
     "text": [
      "AC for testing set: 0.5814849468875557\n"
     ]
    }
   ],
   "source": [
    "y_test_predict=model.predict(X_test)\n",
    "y_test_predict1=(y_test_predict>0.5).astype(int)\n",
    "for i in range(len(y_test_predict)):\n",
    "    best=y_test_predict[i].argmax()\n",
    "    y_test_predict1[i,best]=1\n",
    "\n",
    "\n",
    "acc=0\n",
    "for i in range(len(y_test_predict1)):\n",
    "    if (y_test_predict1[i]==y_test[i]).all():\n",
    "        acc+=1\n",
    "print(\"AC for testing set:\",acc/len(y_test))  "
   ]
  },
  {
   "cell_type": "code",
   "execution_count": null,
   "metadata": {},
   "outputs": [],
   "source": []
  }
 ],
 "metadata": {
  "kernelspec": {
   "display_name": "Python 3",
   "language": "python",
   "name": "python3"
  },
  "language_info": {
   "codemirror_mode": {
    "name": "ipython",
    "version": 3
   },
   "file_extension": ".py",
   "mimetype": "text/x-python",
   "name": "python",
   "nbconvert_exporter": "python",
   "pygments_lexer": "ipython3",
   "version": "3.6.7"
  }
 },
 "nbformat": 4,
 "nbformat_minor": 2
}
