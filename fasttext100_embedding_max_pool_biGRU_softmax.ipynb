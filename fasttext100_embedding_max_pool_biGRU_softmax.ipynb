{
 "cells": [
  {
   "cell_type": "code",
   "execution_count": 1,
   "metadata": {},
   "outputs": [
    {
     "name": "stdout",
     "output_type": "stream",
     "text": [
      "sklearn version: 0.20.2\n",
      "keras version: 2.2.4\n",
      "tensorflow version: 2.0.0-dev20190314\n",
      "pandas version: 0.23.4\n",
      "numpy version: 1.15.1\n",
      "python version: 3.6.7 |Anaconda custom (64-bit)| (default, Oct 23 2018, 14:01:38) \n",
      "[GCC 4.2.1 Compatible Clang 4.0.1 (tags/RELEASE_401/final)]\n"
     ]
    },
    {
     "name": "stderr",
     "output_type": "stream",
     "text": [
      "Using TensorFlow backend.\n"
     ]
    }
   ],
   "source": [
    "###now try to use keras to train the model\n",
    "###try deep learning \n",
    "import pandas as pd\n",
    "import numpy as np\n",
    "import matplotlib.pyplot as plt\n",
    "import seaborn as sns\n",
    "import re\n",
    "import random\n",
    "import nltk.classify.util\n",
    "from gensim.models import FastText\n",
    "from gensim.models import FastText\n",
    "from nltk.classify import NaiveBayesClassifier\n",
    "from nltk.corpus import movie_reviews\n",
    "from nltk.corpus import stopwords\n",
    "from nltk.tokenize import word_tokenize\n",
    "from nltk.corpus import wordnet\n",
    "from nltk.probability import FreqDist\n",
    "from nltk.tokenize import sent_tokenize\n",
    "from nltk.tokenize import word_tokenize\n",
    "from nltk.probability import FreqDist\n",
    "from nltk.stem import WordNetLemmatizer \n",
    "from nltk.stem import PorterStemmer\n",
    "from nltk.stem.snowball import SnowballStemmer\n",
    "from sklearn.feature_extraction.text import CountVectorizer\n",
    "from sklearn.feature_extraction.text import TfidfVectorizer\n",
    "from sklearn.linear_model import LogisticRegression \n",
    "from sklearn.naive_bayes import MultinomialNB\n",
    "from sklearn.multiclass import OneVsRestClassifier\n",
    "from nltk.stem import WordNetLemmatizer \n",
    "from nltk.stem import PorterStemmer\n",
    "from matplotlib.ticker import FuncFormatter\n",
    "import matplotlib.pyplot as plt\n",
    "import numpy as np\n",
    "from sklearn.feature_extraction.text import CountVectorizer\n",
    "from sklearn.metrics import f1_score\n",
    "from sklearn.metrics import accuracy_score\n",
    "from sklearn import svm\n",
    "from sklearn.naive_bayes import MultinomialNB\n",
    "from sklearn.pipeline import Pipeline\n",
    "from sklearn.model_selection import GridSearchCV\n",
    "from sklearn.metrics import make_scorer\n",
    "from sklearn.model_selection import ParameterGrid\n",
    "from sklearn.model_selection import PredefinedSplit\n",
    "from sklearn.pipeline import FeatureUnion\n",
    "from sklearn.linear_model import LogisticRegression\n",
    "from sklearn.metrics import roc_curve, auc\n",
    "from sklearn.svm import SVC\n",
    "import tensorflow as tf\n",
    "import keras\n",
    "import pickle\n",
    "import sklearn\n",
    "import sys\n",
    "import datetime\n",
    "%matplotlib inline\n",
    "from keras.preprocessing.text import Tokenizer\n",
    "from keras.preprocessing.sequence import pad_sequences\n",
    "from keras.layers import Dense, Input, LSTM, Embedding, Dropout, Activation\n",
    "from keras.layers import Bidirectional, GlobalMaxPool1D\n",
    "from keras.models import Model\n",
    "from keras import initializers, regularizers, constraints, optimizers, layers\n",
    "import gensim \n",
    "from nltk.stem.snowball import SnowballStemmer\n",
    "import statistics\n",
    "from gensim.models import Word2Vec\n",
    "from nltk.tokenize import RegexpTokenizer\n",
    "print(\"sklearn version:\",sklearn.__version__)\n",
    "print(\"keras version:\",keras.__version__)\n",
    "print(\"tensorflow version:\",tf.__version__)\n",
    "print(\"pandas version:\",pd.__version__)\n",
    "print(\"numpy version:\",np.__version__)\n",
    "print(\"python version:\",sys.version)"
   ]
  },
  {
   "cell_type": "code",
   "execution_count": 104,
   "metadata": {},
   "outputs": [],
   "source": [
    "tokenizer = RegexpTokenizer(r'\\w{3,}')\n",
    "def simple_cleaning(test_str):\n",
    "    test_str = re.sub(r\"\\n\", \" \", test_str, 0, re.MULTILINE)\n",
    "    test_str = re.sub(r\"(\\$+)(?:(?!\\1)[\\s\\S])*\\1\", \"\", test_str, 0, re.MULTILINE)\n",
    "    test_str = re.sub(r\"-\", \" \", test_str, 0, re.MULTILINE)\n",
    "    test_str = re.sub(r\"[\\\\'/{}\\\":\\(\\).,]\", \"\", test_str, 0, re.MULTILINE)\n",
    "    test_str = test_str.lower()\n",
    "    return test_str.lower()\n"
   ]
  },
  {
   "cell_type": "code",
   "execution_count": 2,
   "metadata": {},
   "outputs": [
    {
     "name": "stderr",
     "output_type": "stream",
     "text": [
      "/Users/ben/anaconda3/lib/python3.6/site-packages/IPython/core/interactiveshell.py:2698: DtypeWarning: Columns (5) have mixed types. Specify dtype option on import or set low_memory=False.\n",
      "  interactivity=interactivity, compiler=compiler, result=result)\n"
     ]
    }
   ],
   "source": [
    "df=pd.read_csv(\"complete_math_arxiv.csv\")"
   ]
  },
  {
   "cell_type": "code",
   "execution_count": 3,
   "metadata": {},
   "outputs": [
    {
     "data": {
      "text/html": [
       "<div>\n",
       "<style scoped>\n",
       "    .dataframe tbody tr th:only-of-type {\n",
       "        vertical-align: middle;\n",
       "    }\n",
       "\n",
       "    .dataframe tbody tr th {\n",
       "        vertical-align: top;\n",
       "    }\n",
       "\n",
       "    .dataframe thead th {\n",
       "        text-align: right;\n",
       "    }\n",
       "</style>\n",
       "<table border=\"1\" class=\"dataframe\">\n",
       "  <thead>\n",
       "    <tr style=\"text-align: right;\">\n",
       "      <th></th>\n",
       "      <th>Unnamed: 0</th>\n",
       "      <th>abstract</th>\n",
       "      <th>authors</th>\n",
       "      <th>categories</th>\n",
       "      <th>created</th>\n",
       "      <th>id</th>\n",
       "      <th>title</th>\n",
       "      <th>updated</th>\n",
       "      <th>clean_abstract</th>\n",
       "      <th>math.MP</th>\n",
       "      <th>...</th>\n",
       "      <th>math.SG</th>\n",
       "      <th>math.SP</th>\n",
       "      <th>math.CT</th>\n",
       "      <th>math.KT</th>\n",
       "      <th>math.GN</th>\n",
       "      <th>math.GM</th>\n",
       "      <th>math.HO</th>\n",
       "      <th>simple_abstract</th>\n",
       "      <th>list_simple_abstract</th>\n",
       "      <th>simple_text</th>\n",
       "    </tr>\n",
       "  </thead>\n",
       "  <tbody>\n",
       "    <tr>\n",
       "      <th>0</th>\n",
       "      <td>0</td>\n",
       "      <td>We construct a generic extension in which the ...</td>\n",
       "      <td>['Thomas Jech', 'Saharon Shelah']</td>\n",
       "      <td>['math.LO']</td>\n",
       "      <td>1989-04-14</td>\n",
       "      <td>math/9201239</td>\n",
       "      <td>A note on canonical functions</td>\n",
       "      <td>1989-04-14</td>\n",
       "      <td>construct gener extens aleph canon function al...</td>\n",
       "      <td>0</td>\n",
       "      <td>...</td>\n",
       "      <td>0</td>\n",
       "      <td>0</td>\n",
       "      <td>0</td>\n",
       "      <td>0</td>\n",
       "      <td>0</td>\n",
       "      <td>0</td>\n",
       "      <td>0</td>\n",
       "      <td>construct generic exten canon function exist</td>\n",
       "      <td>['construct', 'generic', 'exten', 'canon', 'fu...</td>\n",
       "      <td>construct generic extens aleph_2 canon functio...</td>\n",
       "    </tr>\n",
       "    <tr>\n",
       "      <th>1</th>\n",
       "      <td>1</td>\n",
       "      <td>It is shown that if $C$ is an $n$-dimensional ...</td>\n",
       "      <td>['Keith Ball']</td>\n",
       "      <td>['math.MG', 'math.FA']</td>\n",
       "      <td>1989-10-26</td>\n",
       "      <td>math/9201205</td>\n",
       "      <td>Volume ratios and a reverse isoperimetric ineq...</td>\n",
       "      <td>1989-10-26</td>\n",
       "      <td>shown dimension convex bodi affin imag larger ...</td>\n",
       "      <td>0</td>\n",
       "      <td>...</td>\n",
       "      <td>0</td>\n",
       "      <td>0</td>\n",
       "      <td>0</td>\n",
       "      <td>0</td>\n",
       "      <td>0</td>\n",
       "      <td>0</td>\n",
       "      <td>0</td>\n",
       "      <td>shown dimens convex bodi affin imag larger cor...</td>\n",
       "      <td>['shown', 'dimens', 'convex', 'bodi', 'affin',...</td>\n",
       "      <td>shown dimension convex bodi affin imag larger ...</td>\n",
       "    </tr>\n",
       "    <tr>\n",
       "      <th>2</th>\n",
       "      <td>2</td>\n",
       "      <td>It is proved that if $C$ is a convex body in $...</td>\n",
       "      <td>['Keith Ball']</td>\n",
       "      <td>['math.MG', 'math.FA']</td>\n",
       "      <td>1989-10-26</td>\n",
       "      <td>math/9201204</td>\n",
       "      <td>Shadows of convex bodies</td>\n",
       "      <td>1989-10-26</td>\n",
       "      <td>prove convex bodi affin imag zero volum codime...</td>\n",
       "      <td>0</td>\n",
       "      <td>...</td>\n",
       "      <td>0</td>\n",
       "      <td>0</td>\n",
       "      <td>0</td>\n",
       "      <td>0</td>\n",
       "      <td>0</td>\n",
       "      <td>0</td>\n",
       "      <td>0</td>\n",
       "      <td>prove convex bodi affin imag non zero volum co...</td>\n",
       "      <td>['prove', 'convex', 'bodi', 'affin', 'imag', '...</td>\n",
       "      <td>prove convex bodi affin imag non zero volum co...</td>\n",
       "    </tr>\n",
       "    <tr>\n",
       "      <th>3</th>\n",
       "      <td>3</td>\n",
       "      <td>It is proved that if $u_1,\\ldots, u_n$ are vec...</td>\n",
       "      <td>['Keith Ball', 'Alain Pajor']</td>\n",
       "      <td>['math.MG', 'math.FA']</td>\n",
       "      <td>1989-10-26</td>\n",
       "      <td>math/9201203</td>\n",
       "      <td>Convex bodies with few faces</td>\n",
       "      <td>1989-10-26</td>\n",
       "      <td>prove vector volum symmetr convex bodi whose b...</td>\n",
       "      <td>0</td>\n",
       "      <td>...</td>\n",
       "      <td>0</td>\n",
       "      <td>0</td>\n",
       "      <td>0</td>\n",
       "      <td>0</td>\n",
       "      <td>0</td>\n",
       "      <td>0</td>\n",
       "      <td>0</td>\n",
       "      <td>prove vector volum symmetr convex bodi whose b...</td>\n",
       "      <td>['prove', 'vector', 'volum', 'symmetr', 'conve...</td>\n",
       "      <td>prove vector volum symmetr convex bodi whose b...</td>\n",
       "    </tr>\n",
       "    <tr>\n",
       "      <th>4</th>\n",
       "      <td>4</td>\n",
       "      <td>This note deals with the following problem, th...</td>\n",
       "      <td>['Gideon Schechtman', 'Joel Zinn']</td>\n",
       "      <td>['math.FA', 'math.MG']</td>\n",
       "      <td>1989-11-09</td>\n",
       "      <td>math/9201206</td>\n",
       "      <td>On the volume of the intersection of two $L_p^...</td>\n",
       "      <td>1989-11-09</td>\n",
       "      <td>note deal follow problem case introduc vitali ...</td>\n",
       "      <td>0</td>\n",
       "      <td>...</td>\n",
       "      <td>0</td>\n",
       "      <td>0</td>\n",
       "      <td>0</td>\n",
       "      <td>0</td>\n",
       "      <td>0</td>\n",
       "      <td>0</td>\n",
       "      <td>0</td>\n",
       "      <td>note deal follow problem case introduc vitali ...</td>\n",
       "      <td>['note', 'deal', 'follow', 'problem', 'case', ...</td>\n",
       "      <td>note deal follow problem case introduc vitali ...</td>\n",
       "    </tr>\n",
       "  </tbody>\n",
       "</table>\n",
       "<p>5 rows × 44 columns</p>\n",
       "</div>"
      ],
      "text/plain": [
       "   Unnamed: 0                                           abstract  \\\n",
       "0           0  We construct a generic extension in which the ...   \n",
       "1           1  It is shown that if $C$ is an $n$-dimensional ...   \n",
       "2           2  It is proved that if $C$ is a convex body in $...   \n",
       "3           3  It is proved that if $u_1,\\ldots, u_n$ are vec...   \n",
       "4           4  This note deals with the following problem, th...   \n",
       "\n",
       "                              authors              categories     created  \\\n",
       "0   ['Thomas Jech', 'Saharon Shelah']             ['math.LO']  1989-04-14   \n",
       "1                      ['Keith Ball']  ['math.MG', 'math.FA']  1989-10-26   \n",
       "2                      ['Keith Ball']  ['math.MG', 'math.FA']  1989-10-26   \n",
       "3       ['Keith Ball', 'Alain Pajor']  ['math.MG', 'math.FA']  1989-10-26   \n",
       "4  ['Gideon Schechtman', 'Joel Zinn']  ['math.FA', 'math.MG']  1989-11-09   \n",
       "\n",
       "             id                                              title  \\\n",
       "0  math/9201239                      A note on canonical functions   \n",
       "1  math/9201205  Volume ratios and a reverse isoperimetric ineq...   \n",
       "2  math/9201204                           Shadows of convex bodies   \n",
       "3  math/9201203                       Convex bodies with few faces   \n",
       "4  math/9201206  On the volume of the intersection of two $L_p^...   \n",
       "\n",
       "      updated                                     clean_abstract  math.MP  \\\n",
       "0  1989-04-14  construct gener extens aleph canon function al...        0   \n",
       "1  1989-10-26  shown dimension convex bodi affin imag larger ...        0   \n",
       "2  1989-10-26  prove convex bodi affin imag zero volum codime...        0   \n",
       "3  1989-10-26  prove vector volum symmetr convex bodi whose b...        0   \n",
       "4  1989-11-09  note deal follow problem case introduc vitali ...        0   \n",
       "\n",
       "                         ...                          math.SG  math.SP  \\\n",
       "0                        ...                                0        0   \n",
       "1                        ...                                0        0   \n",
       "2                        ...                                0        0   \n",
       "3                        ...                                0        0   \n",
       "4                        ...                                0        0   \n",
       "\n",
       "   math.CT  math.KT  math.GN  math.GM  math.HO  \\\n",
       "0        0        0        0        0        0   \n",
       "1        0        0        0        0        0   \n",
       "2        0        0        0        0        0   \n",
       "3        0        0        0        0        0   \n",
       "4        0        0        0        0        0   \n",
       "\n",
       "                                     simple_abstract  \\\n",
       "0       construct generic exten canon function exist   \n",
       "1  shown dimens convex bodi affin imag larger cor...   \n",
       "2  prove convex bodi affin imag non zero volum co...   \n",
       "3  prove vector volum symmetr convex bodi whose b...   \n",
       "4  note deal follow problem case introduc vitali ...   \n",
       "\n",
       "                                list_simple_abstract  \\\n",
       "0  ['construct', 'generic', 'exten', 'canon', 'fu...   \n",
       "1  ['shown', 'dimens', 'convex', 'bodi', 'affin',...   \n",
       "2  ['prove', 'convex', 'bodi', 'affin', 'imag', '...   \n",
       "3  ['prove', 'vector', 'volum', 'symmetr', 'conve...   \n",
       "4  ['note', 'deal', 'follow', 'problem', 'case', ...   \n",
       "\n",
       "                                         simple_text  \n",
       "0  construct generic extens aleph_2 canon functio...  \n",
       "1  shown dimension convex bodi affin imag larger ...  \n",
       "2  prove convex bodi affin imag non zero volum co...  \n",
       "3  prove vector volum symmetr convex bodi whose b...  \n",
       "4  note deal follow problem case introduc vitali ...  \n",
       "\n",
       "[5 rows x 44 columns]"
      ]
     },
     "execution_count": 3,
     "metadata": {},
     "output_type": "execute_result"
    }
   ],
   "source": [
    "df.head()"
   ]
  },
  {
   "cell_type": "code",
   "execution_count": null,
   "metadata": {},
   "outputs": [],
   "source": []
  },
  {
   "cell_type": "code",
   "execution_count": 105,
   "metadata": {},
   "outputs": [],
   "source": [
    "df['simple_abstract']=df['abstract'].apply(lambda x:simple_cleaning(x))"
   ]
  },
  {
   "cell_type": "markdown",
   "metadata": {},
   "source": [
    "## let we prepare the list of sent, each sent is a list of words\n",
    "## we will just skip stopwords and any words less than length 3\n",
    "###  use snowballstemmer to further clean the tokens"
   ]
  },
  {
   "cell_type": "code",
   "execution_count": 226,
   "metadata": {},
   "outputs": [],
   "source": [
    "from nltk.stem.snowball import SnowballStemmer\n",
    "stemmer = SnowballStemmer(\"english\")\n",
    "tokenizer_regex = RegexpTokenizer(r'\\w{3,}')\n",
    "df['list_simple_abstract']=df['simple_abstract'].apply(lambda x: tokenizer_regex.tokenize(x))\n",
    "from nltk.corpus import stopwords\n",
    "STOPS=set(stopwords.words('english'))\n",
    "df['list_simple_abstract'] = df['list_simple_abstract'].apply(lambda x : [stemmer.stem(y.strip()) for y in x if y not in STOPS])\n",
    "df['list_simple_abstract'] = df['list_simple_abstract'].apply(lambda x : [stemmer.stem(y.strip()) for y in x if (y not in STOPS) and (len(re.compile(r'\\d').findall(y))==0)])"
   ]
  },
  {
   "cell_type": "markdown",
   "metadata": {},
   "source": []
  },
  {
   "cell_type": "code",
   "execution_count": 247,
   "metadata": {},
   "outputs": [],
   "source": [
    "df['simple_abstract']=df['list_simple_abstract'].apply(lambda x :\" \".join(x))"
   ]
  },
  {
   "cell_type": "code",
   "execution_count": null,
   "metadata": {},
   "outputs": [],
   "source": [
    "df=df[df['simple_abstract'].apply(lambda x:type(x)==type(\"aaaa\"))]\n",
    "df['list_simple_abstract']=df['simple_abstract'].apply(lambda x: RegexpTokenizer(r'\\w{3,}').tokenize(x))"
   ]
  },
  {
   "cell_type": "code",
   "execution_count": 5,
   "metadata": {},
   "outputs": [],
   "source": [
    "#####Preprocess\n",
    "def list_of_authors(text):\n",
    "    names=[]\n",
    "    name_list=text.split(',')\n",
    "    for name in name_list:\n",
    "        name=name.strip()\n",
    "        if name[0]=='[':\n",
    "            name=name[1:]\n",
    "        if name[-1]==']':\n",
    "            name=name[:-1]\n",
    "        name=name[1:-1]\n",
    "        names+=[name]\n",
    "    return names    \n",
    "\n",
    "\n",
    "def list_of_categories(text):\n",
    "    pat=re.compile(r'math.[A-Z][A-Z]')\n",
    "    return pat.findall(text)\n",
    "\n",
    "df['categories']=df['categories'].apply(lambda x: list_of_categories(x))\n",
    "df['authors']=df['authors'].apply(lambda x: list_of_authors(x))\n",
    "df['created']=df['created'].apply(lambda x:datetime.datetime.strptime(x, \"%Y-%m-%d\"))\n",
    "if \"clean_abstract\" not in df.columns:\n",
    "    df['clean_abstract']=df['abstract'].apply(lambda x: clean.transform(x))\n",
    "      \n",
    "all_cat={}\n",
    "for i in df.index:\n",
    "    paper_cats=df.loc[i,\"categories\"]\n",
    "    for cat in paper_cats:\n",
    "        if cat in all_cat:\n",
    "            all_cat[cat]+=1\n",
    "        else:\n",
    "            all_cat[cat]=1\n",
    "\n",
    "list_of_all_cat=sorted(list(all_cat.items()),key=lambda x: x[1], reverse=True)            \n",
    "all_cats=list(zip(*list_of_all_cat))[0]\n",
    "index_to_cat={}\n",
    "for i in range(len(all_cats)):\n",
    "    index_to_cat[i]=all_cats[i]    \n",
    "\n",
    "for i in range(len(index_to_cat)):\n",
    "    df[index_to_cat[i]]=df[\"categories\"].apply(lambda x: 1 if index_to_cat[i] in x else 0)\n",
    "\n",
    "      \n",
    "###make \n",
    "\n",
    "df=df[df['clean_abstract'].apply(lambda x : type(x)!=type(3.0))]\n",
    "df=df[df['categories'].apply(lambda x : len(x)>0)]    \n",
    "df=df.reset_index().drop(columns=['index'])"
   ]
  },
  {
   "cell_type": "code",
   "execution_count": 14,
   "metadata": {},
   "outputs": [],
   "source": [
    "#pat=re.compile(r'\\'(\\w+)\\'')\n",
    "#df['list_simple_abstract']=df['list_simple_abstract'].apply(lambda x: pat.findall(x))"
   ]
  },
  {
   "cell_type": "code",
   "execution_count": 11,
   "metadata": {},
   "outputs": [],
   "source": [
    "train=df[df['created']<=datetime.datetime(year=2017,month=1,day=1)]\n",
    "valid=df[(df['created']<datetime.datetime(year=2018,month=1,day=1))&(df['created']>datetime.datetime(year=2017,month=1,day=1))]\n",
    "test=df[df['created']>=datetime.datetime(year=2018,month=1,day=1)]"
   ]
  },
  {
   "cell_type": "markdown",
   "metadata": {},
   "source": [
    "# FastText\n",
    "### Now we can try FastText\n",
    "### One cool thing about FastText is that it doesn't require us to see the wrod before.\n",
    "### Now we can directly process each input text as a matrix of the form (max_len,max_features), where max_len is the padded sequence length and max_features is the dim of embedding matrix of fasttext"
   ]
  },
  {
   "cell_type": "code",
   "execution_count": 18,
   "metadata": {},
   "outputs": [],
   "source": [
    "from gensim.models import FastText\n",
    "max_feature= 100\n",
    "model_ted = FastText(list(df['list_simple_abstract']), size=max_feature, window=5, min_count=3, workers=4,sg=1)"
   ]
  },
  {
   "cell_type": "code",
   "execution_count": 19,
   "metadata": {},
   "outputs": [],
   "source": [
    "model_ted.save(\"FastText100.model\")"
   ]
  },
  {
   "cell_type": "code",
   "execution_count": 20,
   "metadata": {},
   "outputs": [],
   "source": [
    "model_ted = FastText.load(\"FastText100.model\")"
   ]
  },
  {
   "cell_type": "code",
   "execution_count": 21,
   "metadata": {},
   "outputs": [],
   "source": [
    "word_counts = list(model_ted.wv.vocab)"
   ]
  },
  {
   "cell_type": "code",
   "execution_count": 22,
   "metadata": {},
   "outputs": [],
   "source": [
    "all_words=[]\n",
    "for i in df.index:\n",
    "    all_words+=df.loc[i,'list_simple_abstract']\n",
    "all_words=set(all_words)    "
   ]
  },
  {
   "cell_type": "code",
   "execution_count": 23,
   "metadata": {},
   "outputs": [],
   "source": [
    "max_feature= 100\n",
    "\n",
    "big_embedding=np.zeros(shape=(len(all_words),max_feature))"
   ]
  },
  {
   "cell_type": "code",
   "execution_count": 24,
   "metadata": {},
   "outputs": [],
   "source": [
    "max_len = 200\n",
    "def embedding_fasttext(list_words,max_len,max_features):\n",
    "    mat=np.zeros(shape=(max_len,max_features))\n",
    "    temp_list_words=[]\n",
    "    for x in list_words:\n",
    "        if x.strip() in model_ted.wv:\n",
    "            temp_list_words+=[x.strip()]\n",
    "    list_words=temp_list_words\n",
    "    \n",
    "    if len(list_words)>=200:\n",
    "        for i in range(200):\n",
    "            mat[i,:]=model_ted.wv[list_words[i]]\n",
    "    else:\n",
    "        length=len(list_words)\n",
    "        for i in range(200-length,200):\n",
    "            mat[i,:]=model_ted.wv[list_words[i-(200-length)]]\n",
    "    return mat        "
   ]
  },
  {
   "cell_type": "code",
   "execution_count": 25,
   "metadata": {},
   "outputs": [],
   "source": [
    "tokenizer=Tokenizer()\n",
    "tokenizer.fit_on_texts(list(df['simple_abstract']))"
   ]
  },
  {
   "cell_type": "code",
   "execution_count": 28,
   "metadata": {},
   "outputs": [],
   "source": [
    "def build_embedding():\n",
    "    embedding=np.zeros(shape=(len(tokenizer.word_index)+1,100))\n",
    "    for word,index in tokenizer.word_index.items():\n",
    "        if word in model_ted.wv:\n",
    "            embedding[index,]=model_ted.wv[word]\n",
    "    return embedding"
   ]
  },
  {
   "cell_type": "code",
   "execution_count": 29,
   "metadata": {},
   "outputs": [],
   "source": [
    "embedding_matrix = build_embedding()"
   ]
  },
  {
   "cell_type": "markdown",
   "metadata": {},
   "source": [
    "#### now we can train the model"
   ]
  },
  {
   "cell_type": "code",
   "execution_count": 30,
   "metadata": {},
   "outputs": [
    {
     "name": "stdout",
     "output_type": "stream",
     "text": [
      "314423\n",
      "37049\n",
      "36338\n"
     ]
    }
   ],
   "source": [
    "train=df[df['created']<=datetime.datetime(year=2017,month=1,day=1)]\n",
    "valid=df[(df['created']<datetime.datetime(year=2018,month=1,day=1))&(df['created']>datetime.datetime(year=2017,month=1,day=1))]\n",
    "test=df[df['created']>=datetime.datetime(year=2018,month=1,day=1)]\n",
    "print(len(train))\n",
    "print(len(valid))\n",
    "print(len(test))\n",
    "list_tokenized_train = tokenizer.texts_to_sequences(train['simple_abstract'])\n",
    "list_tokenized_valid = tokenizer.texts_to_sequences(valid['simple_abstract'])\n",
    "list_tokenized_test = tokenizer.texts_to_sequences(test['simple_abstract'])"
   ]
  },
  {
   "cell_type": "code",
   "execution_count": 31,
   "metadata": {},
   "outputs": [
    {
     "data": {
      "text/plain": [
       "(134544, 100)"
      ]
     },
     "execution_count": 31,
     "metadata": {},
     "output_type": "execute_result"
    }
   ],
   "source": [
    "embedding_matrix.shape"
   ]
  },
  {
   "cell_type": "code",
   "execution_count": 32,
   "metadata": {},
   "outputs": [
    {
     "data": {
      "text/plain": [
       "(array([9.11450e+04, 1.57326e+05, 8.42340e+04, 3.67780e+04, 1.41540e+04,\n",
       "        4.05600e+03, 9.50000e+01, 1.30000e+01, 5.00000e+00, 4.00000e+00]),\n",
       " array([  1. ,  31.8,  62.6,  93.4, 124.2, 155. , 185.8, 216.6, 247.4,\n",
       "        278.2, 309. ]),\n",
       " <a list of 10 Patch objects>)"
      ]
     },
     "execution_count": 32,
     "metadata": {},
     "output_type": "execute_result"
    },
    {
     "data": {
      "image/png": "[encoded data removed]",
      "text/plain": [
       "<Figure size 432x288 with 1 Axes>"
      ]
     },
     "metadata": {},
     "output_type": "display_data"
    }
   ],
   "source": [
    "all_lengths=list(df['list_simple_abstract'].apply(lambda x:len(x)))\n",
    "plt.hist(all_lengths)"
   ]
  },
  {
   "cell_type": "markdown",
   "metadata": {},
   "source": [
    "## choose the padding length to be 200"
   ]
  },
  {
   "cell_type": "code",
   "execution_count": 33,
   "metadata": {},
   "outputs": [],
   "source": [
    "maxlen = 200\n",
    "X_train = pad_sequences(list_tokenized_train, maxlen=maxlen)\n",
    "X_valid = pad_sequences(list_tokenized_valid, maxlen=maxlen)\n",
    "X_test = pad_sequences(list_tokenized_test, maxlen=maxlen)"
   ]
  },
  {
   "cell_type": "code",
   "execution_count": 62,
   "metadata": {},
   "outputs": [],
   "source": [
    "from keras.layers import TimeDistributed\n",
    "from keras.layers import Bidirectional\n",
    "from keras.layers import Flatten\n",
    "from keras.layers import BatchNormalization\n",
    "from keras.layers import SpatialDropout1D,Input\n",
    "from keras.layers import GRU,GlobalAveragePooling1D,GlobalMaxPooling1D,Conv1D,concatenate\n",
    "num_class=len(index_to_cat)\n",
    "inp = tf.keras.layers.Input(shape=(200, ))\n",
    "###then do embedding\n",
    "embed_size = 100\n",
    "max_features = embedding_matrix.shape[0]\n",
    "x = tf.keras.layers.Embedding(max_features, embed_size,weights=[embedding_matrix],trainable=True)(inp)\n",
    "\n",
    "\n",
    "### then do LSTM\n",
    "x = tf.keras.layers.Bidirectional(tf.keras.layers.GRU(50,name='LSTM_layer',return_sequences=True))(x)\n",
    "### 1D conv\n",
    "#x = Conv1D(256, kernel_size = 3, padding = \"valid\", kernel_initializer = \"glorot_uniform\")(x)\n",
    "\n",
    "x = tf.keras.layers.GlobalMaxPooling1D()(x)\n",
    "\n",
    "### maxpool\n",
    "#x = GlobalMaxPool1D()(x)\n",
    "### batchnor\n",
    "#x = BatchNormalization()(x)\n",
    "#x = Dense(128, activation=\"relu\")(x)\n",
    "\n",
    "### dropout\n",
    "#x = Dropout(0.1)(x)\n",
    "### relu\n",
    "x = tf.keras.layers.Dense(64, activation=\"relu\")(x)\n",
    "### dropout\n",
    "x = tf.keras.layers.Dropout(0.1)(x)\n",
    "###\n",
    "#x = BatchNormalization()(x)\n",
    "x = tf.keras.layers.Dense(num_class , activation=\"softmax\")(x)"
   ]
  },
  {
   "cell_type": "code",
   "execution_count": 63,
   "metadata": {},
   "outputs": [
    {
     "name": "stdout",
     "output_type": "stream",
     "text": [
      "Model: \"model_1\"\n",
      "_________________________________________________________________\n",
      "Layer (type)                 Output Shape              Param #   \n",
      "=================================================================\n",
      "input_9 (InputLayer)         [(None, 200)]             0         \n",
      "_________________________________________________________________\n",
      "embedding_5 (Embedding)      (None, 200, 100)          13454400  \n",
      "_________________________________________________________________\n",
      "bidirectional_3 (Bidirection (None, 200, 100)          45600     \n",
      "_________________________________________________________________\n",
      "global_max_pooling1d_2 (Glob (None, 100)               0         \n",
      "_________________________________________________________________\n",
      "dense_2 (Dense)              (None, 64)                6464      \n",
      "_________________________________________________________________\n",
      "dropout_1 (Dropout)          (None, 64)                0         \n",
      "_________________________________________________________________\n",
      "dense_3 (Dense)              (None, 32)                2080      \n",
      "=================================================================\n",
      "Total params: 13,508,544\n",
      "Trainable params: 13,508,544\n",
      "Non-trainable params: 0\n",
      "_________________________________________________________________\n"
     ]
    }
   ],
   "source": [
    "model = tf.keras.Model(inputs=inp, outputs=x)\n",
    "model.compile(loss='categorical_crossentropy',\n",
    "                  optimizer='adam',\n",
    "                  metrics=['categorical_accuracy'])\n",
    "model.summary()"
   ]
  },
  {
   "cell_type": "code",
   "execution_count": 54,
   "metadata": {},
   "outputs": [],
   "source": [
    "cat_to_index={}\n",
    "for i in range(len(index_to_cat)):\n",
    "    cat_to_index[index_to_cat[i]]=i"
   ]
  },
  {
   "cell_type": "code",
   "execution_count": 55,
   "metadata": {},
   "outputs": [],
   "source": [
    "def make_one_hot(row):\n",
    "    temp=[0]*len(index_to_cat)\n",
    "    ind=cat_to_index[row['categories'][0]]\n",
    "    temp[ind]=1\n",
    "    return temp"
   ]
  },
  {
   "cell_type": "code",
   "execution_count": 56,
   "metadata": {},
   "outputs": [],
   "source": [
    "y_train = train.apply(lambda row:make_one_hot(row),axis=1)\n",
    "y_train = np.array(list(y_train))\n",
    "y_valid = valid.apply(lambda row:make_one_hot(row),axis=1)\n",
    "y_valid = np.array(list(y_valid))\n",
    "y_test = test.apply(lambda row:make_one_hot(row),axis=1)\n",
    "y_test = np.array(list(y_test))"
   ]
  },
  {
   "cell_type": "code",
   "execution_count": null,
   "metadata": {},
   "outputs": [],
   "source": []
  },
  {
   "cell_type": "code",
   "execution_count": 65,
   "metadata": {},
   "outputs": [
    {
     "name": "stdout",
     "output_type": "stream",
     "text": [
      "Train on 314423 samples, validate on 37049 samples\n",
      "Epoch 1/6\n",
      "314368/314423 [============================>.] - ETA: 0s - loss: 1.3068 - categorical_accuracy: 0.6211\n",
      "Epoch 00001: val_loss improved from inf to 0.96899, saving model to /Users/ben/Documents/NLP project/weaken_fasttext200_embedding_max_pool_biGRU.h5\n",
      "314423/314423 [==============================] - 2126s 7ms/sample - loss: 1.3068 - categorical_accuracy: 0.6211 - val_loss: 0.9690 - val_categorical_accuracy: 0.7097\n",
      "Epoch 2/6\n",
      "314368/314423 [============================>.] - ETA: 0s - loss: 0.9300 - categorical_accuracy: 0.7205\n",
      "Epoch 00002: val_loss improved from 0.96899 to 0.93017, saving model to /Users/ben/Documents/NLP project/weaken_fasttext200_embedding_max_pool_biGRU.h5\n",
      "314423/314423 [==============================] - 2119s 7ms/sample - loss: 0.9300 - categorical_accuracy: 0.7206 - val_loss: 0.9302 - val_categorical_accuracy: 0.7203\n",
      "Epoch 3/6\n",
      "314368/314423 [============================>.] - ETA: 0s - loss: 0.7846 - categorical_accuracy: 0.7615\n",
      "Epoch 00003: val_loss did not improve from 0.93017\n",
      "314423/314423 [==============================] - 4827s 15ms/sample - loss: 0.7846 - categorical_accuracy: 0.7615 - val_loss: 0.9515 - val_categorical_accuracy: 0.7152\n",
      "Epoch 4/6\n",
      "314368/314423 [============================>.] - ETA: 0s - loss: 0.6672 - categorical_accuracy: 0.7952\n",
      "Epoch 00004: val_loss did not improve from 0.93017\n",
      "314423/314423 [==============================] - 2078s 7ms/sample - loss: 0.6672 - categorical_accuracy: 0.7952 - val_loss: 1.0113 - val_categorical_accuracy: 0.7119\n",
      "Epoch 5/6\n",
      "314368/314423 [============================>.] - ETA: 0s - loss: 0.5717 - categorical_accuracy: 0.8235\n",
      "Epoch 00005: val_loss did not improve from 0.93017\n",
      "314423/314423 [==============================] - 4121s 13ms/sample - loss: 0.5717 - categorical_accuracy: 0.8235 - val_loss: 1.0615 - val_categorical_accuracy: 0.7079\n",
      "Epoch 6/6\n",
      "314368/314423 [============================>.] - ETA: 0s - loss: 0.4936 - categorical_accuracy: 0.8457\n",
      "Epoch 00006: val_loss did not improve from 0.93017\n",
      "314423/314423 [==============================] - 2818s 9ms/sample - loss: 0.4936 - categorical_accuracy: 0.8457 - val_loss: 1.1657 - val_categorical_accuracy: 0.7040\n"
     ]
    }
   ],
   "source": [
    "from keras.callbacks import EarlyStopping\n",
    "from keras.callbacks import ModelCheckpoint\n",
    "import os\n",
    "cwd = os.getcwd()\n",
    "batch_size = 64\n",
    "epochs = 6\n",
    "#es = EarlyStopping(monitor='val_loss', mode='min', verbose=1)\n",
    "checkpointer = tf.keras.callbacks.ModelCheckpoint(filepath=cwd+\"/weaken_fasttext100_embedding_max_pool_biGRU.h5\", verbose=1, save_best_only=True)\n",
    "history = model.fit(X_train,y_train, batch_size=batch_size, epochs=epochs, validation_data=(X_valid, y_valid),callbacks=[checkpointer])"
   ]
  },
  {
   "cell_type": "code",
   "execution_count": 66,
   "metadata": {},
   "outputs": [
    {
     "name": "stdout",
     "output_type": "stream",
     "text": [
      "314423/314423 [==============================] - 985s 3ms/sample - loss: 0.3542 - categorical_accuracy: 0.8905\n",
      "37049/37049 [==============================] - 117s 3ms/sample - loss: 1.1657 - categorical_accuracy: 0.7040\n",
      "Train: 0.891, Test: 0.704\n"
     ]
    }
   ],
   "source": [
    "_, train_acc = model.evaluate(X_train, y_train, verbose=1)\n",
    "_, test_acc = model.evaluate(X_valid, y_valid, verbose=1)\n",
    "print('Train: %.3f, Test: %.3f' % (train_acc, test_acc))\n",
    "# plot training history\n"
   ]
  },
  {
   "cell_type": "code",
   "execution_count": 69,
   "metadata": {},
   "outputs": [
    {
     "data": {
      "image/png": "[encoded data removed]",
      "text/plain": [
       "<Figure size 432x288 with 1 Axes>"
      ]
     },
     "metadata": {},
     "output_type": "display_data"
    }
   ],
   "source": [
    "plt.plot(history.history['loss'], label='train')\n",
    "plt.plot(history.history['val_loss'], label='test')\n",
    "plt.legend()\n",
    "plt.show()"
   ]
  },
  {
   "cell_type": "code",
   "execution_count": 67,
   "metadata": {},
   "outputs": [],
   "source": [
    "from keras.models import load_model\n",
    "model=tf.keras.models.load_model('weaken_fasttext100_embedding_max_pool_biGRU.h5')"
   ]
  },
  {
   "cell_type": "code",
   "execution_count": 68,
   "metadata": {},
   "outputs": [
    {
     "name": "stdout",
     "output_type": "stream",
     "text": [
      "36338/36338 [==============================] - 91s 2ms/sample - loss: 0.9274 - categorical_accuracy: 0.7181\n",
      "0.71814626\n"
     ]
    }
   ],
   "source": [
    "_, test_acc = model.evaluate(X_test, y_test, verbose=1)\n",
    "print(test_acc)"
   ]
  },
  {
   "cell_type": "code",
   "execution_count": 70,
   "metadata": {},
   "outputs": [],
   "source": [
    "\n",
    "y_pred=model.predict(X_test)"
   ]
  },
  {
   "cell_type": "code",
   "execution_count": 71,
   "metadata": {},
   "outputs": [],
   "source": [
    "y_pred2=y_pred.argmax(axis=1)"
   ]
  },
  {
   "cell_type": "code",
   "execution_count": 72,
   "metadata": {},
   "outputs": [],
   "source": [
    "y_true2=y_test.argmax(axis=1)"
   ]
  },
  {
   "cell_type": "code",
   "execution_count": 73,
   "metadata": {},
   "outputs": [
    {
     "data": {
      "text/plain": [
       "0.6269910358905622"
      ]
     },
     "execution_count": 73,
     "metadata": {},
     "output_type": "execute_result"
    }
   ],
   "source": [
    "f1_score(y_true2, y_pred2, average='macro')  "
   ]
  },
  {
   "cell_type": "code",
   "execution_count": 74,
   "metadata": {},
   "outputs": [
    {
     "data": {
      "text/plain": [
       "[('math.MP', 0.6206398845321145),\n",
       " ('math.CO', 0.7962264150943397),\n",
       " ('math.AG', 0.7506603275224512),\n",
       " ('math.PR', 0.7414500683994528),\n",
       " ('math.AP', 0.7871287128712872),\n",
       " ('math.DG', 0.7248110831234256),\n",
       " ('math.IT', 0.8652959943282524),\n",
       " ('math.NT', 0.7637603507062835),\n",
       " ('math.DS', 0.6398820493918171),\n",
       " ('math.OC', 0.7787934186471663),\n",
       " ('math.FA', 0.6100449162923642),\n",
       " ('math.RT', 0.6347452424800492),\n",
       " ('math.NA', 0.7937655297040885),\n",
       " ('math.GT', 0.7062841530054644),\n",
       " ('math.QA', 0.49629629629629635),\n",
       " ('math.CA', 0.47926763597199784),\n",
       " ('math.GR', 0.6877828054298643),\n",
       " ('math.ST', 0.730072463768116),\n",
       " ('math.RA', 0.5474254742547425),\n",
       " ('math.CV', 0.5925215723873442),\n",
       " ('math.AT', 0.6077457795431976),\n",
       " ('math.OA', 0.6379542395693135),\n",
       " ('math.AC', 0.6836616454229432),\n",
       " ('math.LO', 0.749611197511664),\n",
       " ('math.MG', 0.4801223241590214),\n",
       " ('math.SG', 0.6590909090909091),\n",
       " ('math.SP', 0.4155339805825243),\n",
       " ('math.CT', 0.6421663442940039),\n",
       " ('math.KT', 0.3303571428571429),\n",
       " ('math.GN', 0.532258064516129),\n",
       " ('math.GM', 0.12087912087912088),\n",
       " ('math.HO', 0.4574780058651026)]"
      ]
     },
     "execution_count": 74,
     "metadata": {},
     "output_type": "execute_result"
    }
   ],
   "source": [
    "\n",
    "list(zip([index_to_cat[i] for i in range(32)],f1_score(y_true2, y_pred2, average=None)  ))"
   ]
  },
  {
   "cell_type": "code",
   "execution_count": 75,
   "metadata": {},
   "outputs": [
    {
     "data": {
      "text/plain": [
       "0.7166141608582824"
      ]
     },
     "execution_count": 75,
     "metadata": {},
     "output_type": "execute_result"
    }
   ],
   "source": [
    "f1_score(y_true2, y_pred2, average=\"weighted\")  "
   ]
  },
  {
   "cell_type": "code",
   "execution_count": 76,
   "metadata": {},
   "outputs": [
    {
     "data": {
      "text/plain": [
       "0.7181462931366613"
      ]
     },
     "execution_count": 76,
     "metadata": {},
     "output_type": "execute_result"
    }
   ],
   "source": [
    "f1_score(y_true2, y_pred2, average=\"micro\")  "
   ]
  },
  {
   "cell_type": "code",
   "execution_count": 77,
   "metadata": {},
   "outputs": [
    {
     "data": {
      "text/plain": [
       "0.7181462931366613"
      ]
     },
     "execution_count": 77,
     "metadata": {},
     "output_type": "execute_result"
    }
   ],
   "source": [
    "accuracy_score(y_true2,y_pred2)"
   ]
  },
  {
   "cell_type": "code",
   "execution_count": 89,
   "metadata": {},
   "outputs": [
    {
     "name": "stdout",
     "output_type": "stream",
     "text": [
      "[[1290   19   18   83   77   61   15   11   25   10    7    6   14    8\n",
      "    47   28    1    1    0    2    0   12    0    5    0    1   25    1\n",
      "     0    0    0    2]\n",
      " [  31 2532   37   77    1    4   62  150    8   20    7   34    8   31\n",
      "    18   19   34   12   11    2   10    1   10   18   28    0    6    5\n",
      "     1    0    4    7]\n",
      " [  26   41 1421    1    1   33    3  142    6    7    2   38    6   10\n",
      "    16    8    5    0   11   15   26    1   41    2    1    7    1   10\n",
      "    11    0    0    1]\n",
      " [ 118   67    0 1897   41    3   45   10   35   60   16    0   28    1\n",
      "     0   13    1  120    1    9    3    6    0    2    3    0    3    1\n",
      "     0    2    0    0]\n",
      " [ 220    7    4  110 2544   98    3    3   39   67   35    0  114    0\n",
      "     0   75    0    3    0   15    0    0    0    1    7    0   43    0\n",
      "     0    0    0    2]\n",
      " [  73    6   47    5   47 1151    3    3   18   12    6    6    6   34\n",
      "     8    7    5    1    1   23   12    2    0    1   21   20    8    3\n",
      "     0    1    0    0]\n",
      " [  36   43    0   18    1    1 2441   17    3   69    5    0   12    1\n",
      "     2    0    0   88    0    0    0    1    1    1    1    0    1    0\n",
      "     0    0    1    3]\n",
      " [  16   73   70    7    0    3    4 1568   10    0    3   25    0    2\n",
      "     2   31    9    0    8    2    0    0    3    4    2    0    2    0\n",
      "     0    0    3    2]\n",
      " [ 122   21   14   58   61   19   20   47  868   71   15    4   43    9\n",
      "     0   33   18    4    0   17    4   10    0    9    4    5    3    1\n",
      "     0    4    0    3]\n",
      " [  28   32    2   97   63   10  168    1   44 2130   21    0  137    0\n",
      "     0   10    1   70    0    2    3    0    1    7    5    0    3    0\n",
      "     0    1    0    2]\n",
      " [  50   11    5   44   64   14   10   18   16   18  747    8   11    0\n",
      "     0  104    6    9    9   27    2   37    1    9   18    1   38    0\n",
      "     1   14    1    2]\n",
      " [  25   28   41    1    0   13    0   35    1    0    7  517    0    0\n",
      "    59    3   29    0   30    1    4    5   10    0    0    1    0    9\n",
      "     9    0    1    0]\n",
      " [  90    6    4   37   63    5   35    5   12  109   17    0 1757    1\n",
      "     0   24    0   51    3    2    1    0    1    0    0    0    3    0\n",
      "     0    0    1    4]\n",
      " [   6    9   27    4    0   46    0    8   16    0    0    2    0  517\n",
      "    10    1   37    0    0    3   31    0    0    0    5    9    0    0\n",
      "     2    1    0    2]\n",
      " [  20    1    9    1    0    5    0    0    0    0    1   29    0   11\n",
      "   201    2    4    0   18    0   10   15    0    0    0    1    1    5\n",
      "     4    0    0    1]\n",
      " [  59   19   15   31   60   17    5   52   44   11  102    3   18    1\n",
      "     3  445    1    6    2   20    0    0    0    4   10    0   10    0\n",
      "     0    1    4    3]\n",
      " [   6   42   10    6    0   11    2   30    8    2    3   35    0   31\n",
      "     5    0  532    0   17    0   13    8    1    8    5    1    0    3\n",
      "     1    3    0    2]\n",
      " [   9    7    2  101    0    1   46    2    0   18    0    0   16    0\n",
      "     0    1    0  806    0    0    2    0    0    0    3    0    0    0\n",
      "     0    0    0    1]\n",
      " [  22   22   12    0    0    4    4   27    1    4   10   53    4    0\n",
      "    48    3   29    0  303    0    3    7   24    6    0    1    2   12\n",
      "     6    1    1    2]\n",
      " [  13    4   33    6   14   42    3   16   17    3   37    1    6    9\n",
      "     0   54    0    1    0  309    1    0    0    2    2    2    2    0\n",
      "     0    2    0    0]\n",
      " [  10   17   18    1    0   16    7    5    7    1    3    7    1   32\n",
      "    14    2    6    1    3    0  306    2    3    2    3    3    2   28\n",
      "    10    3    0    2]\n",
      " [  25    5    0   10    0    3    2    0    6    0   31    5    0    0\n",
      "    14    2    8    1   13    2    1  237    0    4    0    0    0    2\n",
      "     8    2    1    0]\n",
      " [   5   28   33    1    0    0    3   24    0    0    1    9    0    0\n",
      "     0    1    9    1   32    0    4    0  295    2    1    0    0    4\n",
      "     3    0    1    0]\n",
      " [   8   27   11    5    0    0    1   25    5    1    6    1    0    1\n",
      "     0    3   14    6   18    0    2   10    2  482    2    0    0   14\n",
      "     0   14    4   10]\n",
      " [   5   42    5   10   11   32    2    4   13    9   13    0    3    9\n",
      "     2   24    2    0    0    5    4    0    0    0  157    1    1    1\n",
      "     0    1    1    1]\n",
      " [   7    0   26    0    1   29    0    1    6    0    0    2    2   10\n",
      "     3    0    0    0    0    1    3    0    1    1    0  145    0    0\n",
      "     0    0    1    1]\n",
      " [  43   20    0    3   22    6    4    4    4    2   23    0    4    0\n",
      "     0    5    0    2    1    2    0    0    1    0    0    1  107    0\n",
      "     0    0    0    0]\n",
      " [   3    1    6    0    0    0    2    1    1    0    1    8    0    1\n",
      "     8    0    1    0    3    0   21    1    0    9    0    0    0  166\n",
      "     5    0    0    1]\n",
      " [   4    0   17    0    0    8    0    1    0    0    1    6    0    1\n",
      "     8    0    2    0    6    0   16    4    7    0    0    1    0    7\n",
      "    37    0    0    0]\n",
      " [   0    2    0    2    1    0    0    3    6    2   29    0    0    6\n",
      "     0    2    8    1    3    1    7    2    3   24    9    0    0    5\n",
      "     0   99    2    5]\n",
      " [   6   20    2    4    2    9    1   28    2    2    5    1    5    1\n",
      "     2    7    0    2    2    2    1    0    1    6    4    0    0    1\n",
      "     0    1   11   13]\n",
      " [  12   20    4   12    0    2    5   16    5    4    0    0    1    1\n",
      "     1    4    0    7    1    2    2    0    0    5    5    0    0    0\n",
      "     0    0    4   78]]\n"
     ]
    }
   ],
   "source": [
    "from sklearn.metrics import classification_report, confusion_matrix\n",
    "np.set_printoptions(threshold=np.inf)\n",
    "\n",
    "print(confusion_matrix(y_true2, y_pred2))"
   ]
  },
  {
   "cell_type": "code",
   "execution_count": null,
   "metadata": {},
   "outputs": [],
   "source": []
  },
  {
   "cell_type": "code",
   "execution_count": null,
   "metadata": {},
   "outputs": [],
   "source": []
  },
  {
   "cell_type": "code",
   "execution_count": null,
   "metadata": {},
   "outputs": [],
   "source": []
  },
  {
   "cell_type": "code",
   "execution_count": 78,
   "metadata": {},
   "outputs": [],
   "source": [
    "\n",
    "acc=0\n",
    "bad=[]\n",
    "for i in range(len(y_true2)):\n",
    "    if (y_true2[i]==y_pred2[i]):\n",
    "        \n",
    "        acc+=1\n",
    "    else:\n",
    "        bad+=[i]"
   ]
  },
  {
   "cell_type": "code",
   "execution_count": null,
   "metadata": {},
   "outputs": [],
   "source": []
  },
  {
   "cell_type": "code",
   "execution_count": 79,
   "metadata": {},
   "outputs": [],
   "source": [
    "test=test.reset_index()\n",
    "bad_cat={}\n",
    "\n",
    "for index in bad:\n",
    "    cat=test.loc[index,\"categories\"][0]\n",
    "    if cat in bad_cat:\n",
    "        bad_cat[cat]+=[index]\n",
    "    else:\n",
    "        bad_cat[cat]=[index]"
   ]
  },
  {
   "cell_type": "code",
   "execution_count": 94,
   "metadata": {},
   "outputs": [
    {
     "name": "stdout",
     "output_type": "stream",
     "text": [
      "932\n",
      "consid reconstruct heterogen coeffici field robin boundari condit inaccess part boundari poisson problem uncertain unknown inhomogen conduct field interior domain account model error stem uncertainti conduct coeffici treat unknown conduct nuisanc paramet carri approxim premargin invert robin coeffici field approxim relat model error via bayesian approxim error bae approach uncertainti analysi present reli local linear paramet observ map maximum posteriori map estim lead normal gaussian approxim paramet posterior densiti comput map point appli inexact newton conjug gradient approach base adjoint methodolog construct covari made tractabl invok low rank approxim data misfit compon hessian two numer experi consid one prior covari conduct isotrop one prior covari conduct anisotrop result compar base standard error model particular emphasi feasibl posterior uncertainti estim show bae approach feasibl one sen predict posterior uncertainti consist actual estim error neglect relat model error yield infea estim robin coeffici addit demonstr bae approach approxim comput expen measur number pde solv convent error approach\n",
      "['math.OC', 'math.NA', 'math.ST']\n",
      "math.NA\n",
      "[('math.NA', 0.8670778), ('math.OC', 0.054623365), ('math.ST', 0.028264644), ('math.AP', 0.026105726)]\n",
      "[ 0  0  0  0  2  0  0  0  0  5  0  0 86  0  0  0  0  2  0  0  0  0  0  0\n",
      "  0  0  0  0  0  0  0  0]\n"
     ]
    }
   ],
   "source": [
    "temp=bad[random.randint(0,len(bad))]\n",
    "print(temp)\n",
    "print(test.loc[temp,\"simple_abstract\"])\n",
    "print(test.loc[temp,\"categories\"])\n",
    "print(index_to_cat[y_pred[temp].argmax()])\n",
    "temp2=[]\n",
    "count=0\n",
    "for ind in y_pred[temp].argsort()[::-1]:\n",
    "    if count>3:\n",
    "        break\n",
    "    temp2+=[(index_to_cat[ind],y_pred[temp][ind])]\n",
    "    count+=1\n",
    "print(temp2)    \n",
    "print((y_pred[temp]*100).astype(int))"
   ]
  },
  {
   "cell_type": "code",
   "execution_count": null,
   "metadata": {},
   "outputs": [],
   "source": []
  },
  {
   "cell_type": "code",
   "execution_count": null,
   "metadata": {},
   "outputs": [],
   "source": []
  }
 ],
 "metadata": {
  "kernelspec": {
   "display_name": "Python 3",
   "language": "python",
   "name": "python3"
  },
  "language_info": {
   "codemirror_mode": {
    "name": "ipython",
    "version": 3
   },
   "file_extension": ".py",
   "mimetype": "text/x-python",
   "name": "python",
   "nbconvert_exporter": "python",
   "pygments_lexer": "ipython3",
   "version": "3.6.7"
  }
 },
 "nbformat": 4,
 "nbformat_minor": 2
}
